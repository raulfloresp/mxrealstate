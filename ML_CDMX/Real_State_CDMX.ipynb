{
 "cells": [
  {
   "cell_type": "markdown",
   "metadata": {},
   "source": [
    "# IMPORT MODULES & LOAD DATA"
   ]
  },
  {
   "cell_type": "code",
   "execution_count": 1,
   "metadata": {},
   "outputs": [],
   "source": [
    "%matplotlib inline\n",
    "import matplotlib.pyplot as plt\n",
    "import numpy as np\n",
    "import pandas as pd\n",
    "import pickle"
   ]
  },
  {
   "cell_type": "markdown",
   "metadata": {},
   "source": [
    "## Dataset: Real State.csv\n",
    "\n",
    "Source: Metros Cubicos\n",
    "Date: September 22 2020\n",
    "\n",
    "Description: Measurements are related to M2 of Terrain, M2 of Construction, and Price of Property\n",
    "\n",
    "* Variables/Columns\n",
    "* PRICE: Price of Property\n",
    "* SQUARED_METERS: Squared Meters of Property Terrain\n",
    "* BUILD_SQUARED_METERS: Squared Meters of build property\n",
    "\n",
    "**Hypothesis**: Can we predict the price from Metros Cubicos CDMX Dataset using the measurements of Squared Meters?"
   ]
  },
  {
   "cell_type": "code",
   "execution_count": 2,
   "metadata": {},
   "outputs": [
    {
     "data": {
      "text/html": [
       "<div>\n",
       "<style scoped>\n",
       "    .dataframe tbody tr th:only-of-type {\n",
       "        vertical-align: middle;\n",
       "    }\n",
       "\n",
       "    .dataframe tbody tr th {\n",
       "        vertical-align: top;\n",
       "    }\n",
       "\n",
       "    .dataframe thead th {\n",
       "        text-align: right;\n",
       "    }\n",
       "</style>\n",
       "<table border=\"1\" class=\"dataframe\">\n",
       "  <thead>\n",
       "    <tr style=\"text-align: right;\">\n",
       "      <th></th>\n",
       "      <th>price</th>\n",
       "      <th>id_publicacion</th>\n",
       "      <th>id_city</th>\n",
       "      <th>house_lat</th>\n",
       "      <th>house_long</th>\n",
       "      <th>rooms</th>\n",
       "      <th>bathrooms</th>\n",
       "      <th>squared_meters</th>\n",
       "      <th>builded_squared_meters</th>\n",
       "      <th>house_details</th>\n",
       "      <th>address</th>\n",
       "    </tr>\n",
       "  </thead>\n",
       "  <tbody>\n",
       "    <tr>\n",
       "      <th>0</th>\n",
       "      <td>16500000.0</td>\n",
       "      <td>793771458</td>\n",
       "      <td>4</td>\n",
       "      <td>19.383400</td>\n",
       "      <td>-99.153381</td>\n",
       "      <td>7</td>\n",
       "      <td>4.0</td>\n",
       "      <td>252.0</td>\n",
       "      <td>490.0</td>\n",
       "      <td>EXCELENTE OPORTUNIDAD PARA INVERSIONISTAS, CON...</td>\n",
       "      <td>Palenque 413, Narvarte, Benito Juarez, Distrit...</td>\n",
       "    </tr>\n",
       "    <tr>\n",
       "      <th>1</th>\n",
       "      <td>22000000.0</td>\n",
       "      <td>822644893</td>\n",
       "      <td>4</td>\n",
       "      <td>19.390625</td>\n",
       "      <td>-99.176448</td>\n",
       "      <td>2</td>\n",
       "      <td>5.0</td>\n",
       "      <td>650.0</td>\n",
       "      <td>650.0</td>\n",
       "      <td>Casa muy amplia con 650 m2 de construccion y e...</td>\n",
       "      <td>Alabama 89, Napoles, Benito Juarez, Distrito F...</td>\n",
       "    </tr>\n",
       "    <tr>\n",
       "      <th>2</th>\n",
       "      <td>26000000.0</td>\n",
       "      <td>823060505</td>\n",
       "      <td>6</td>\n",
       "      <td>19.355168</td>\n",
       "      <td>-99.176567</td>\n",
       "      <td>4</td>\n",
       "      <td>4.0</td>\n",
       "      <td>345.0</td>\n",
       "      <td>347.0</td>\n",
       "      <td>Vive en una de las colonias con mayor plusvali...</td>\n",
       "      <td>Manzano 30, Florida, Alvaro Obregon, Distrito ...</td>\n",
       "    </tr>\n",
       "    <tr>\n",
       "      <th>3</th>\n",
       "      <td>43000000.0</td>\n",
       "      <td>822087474</td>\n",
       "      <td>15</td>\n",
       "      <td>19.361988</td>\n",
       "      <td>-99.661890</td>\n",
       "      <td>4</td>\n",
       "      <td>6.0</td>\n",
       "      <td>416.0</td>\n",
       "      <td>601.0</td>\n",
       "      <td>EXCELENTE CASA EN VENTA EN CUMBRES SANTA FE \\n...</td>\n",
       "      <td>Santa Fe Cuajimalpa, Cuajimalpa De Morelos, Di...</td>\n",
       "    </tr>\n",
       "    <tr>\n",
       "      <th>4</th>\n",
       "      <td>18500000.0</td>\n",
       "      <td>823066941</td>\n",
       "      <td>5</td>\n",
       "      <td>19.353775</td>\n",
       "      <td>-99.157975</td>\n",
       "      <td>5</td>\n",
       "      <td>5.0</td>\n",
       "      <td>167.0</td>\n",
       "      <td>302.0</td>\n",
       "      <td>Espectacular casa en venta, excelente ubicacio...</td>\n",
       "      <td>Xicotencatl 240, Del Carmen, Coyoacan, Distrit...</td>\n",
       "    </tr>\n",
       "  </tbody>\n",
       "</table>\n",
       "</div>"
      ],
      "text/plain": [
       "        price  id_publicacion  id_city  house_lat  house_long  rooms  \\\n",
       "0  16500000.0       793771458        4  19.383400  -99.153381      7   \n",
       "1  22000000.0       822644893        4  19.390625  -99.176448      2   \n",
       "2  26000000.0       823060505        6  19.355168  -99.176567      4   \n",
       "3  43000000.0       822087474       15  19.361988  -99.661890      4   \n",
       "4  18500000.0       823066941        5  19.353775  -99.157975      5   \n",
       "\n",
       "   bathrooms  squared_meters  builded_squared_meters  \\\n",
       "0        4.0           252.0                   490.0   \n",
       "1        5.0           650.0                   650.0   \n",
       "2        4.0           345.0                   347.0   \n",
       "3        6.0           416.0                   601.0   \n",
       "4        5.0           167.0                   302.0   \n",
       "\n",
       "                                       house_details  \\\n",
       "0  EXCELENTE OPORTUNIDAD PARA INVERSIONISTAS, CON...   \n",
       "1  Casa muy amplia con 650 m2 de construccion y e...   \n",
       "2  Vive en una de las colonias con mayor plusvali...   \n",
       "3  EXCELENTE CASA EN VENTA EN CUMBRES SANTA FE \\n...   \n",
       "4  Espectacular casa en venta, excelente ubicacio...   \n",
       "\n",
       "                                             address  \n",
       "0  Palenque 413, Narvarte, Benito Juarez, Distrit...  \n",
       "1  Alabama 89, Napoles, Benito Juarez, Distrito F...  \n",
       "2  Manzano 30, Florida, Alvaro Obregon, Distrito ...  \n",
       "3  Santa Fe Cuajimalpa, Cuajimalpa De Morelos, Di...  \n",
       "4  Xicotencatl 240, Del Carmen, Coyoacan, Distrit...  "
      ]
     },
     "execution_count": 2,
     "metadata": {},
     "output_type": "execute_result"
    }
   ],
   "source": [
    "# Read the csv file into a pandas DataFrame\n",
    "\n",
    "realestate = pd.read_csv('CDMX20_Reat_State.csv')\n",
    "realestate.head()"
   ]
  },
  {
   "cell_type": "markdown",
   "metadata": {},
   "source": [
    "# EXPLORE AND CLEAN DATA FOR NULLS"
   ]
  },
  {
   "cell_type": "code",
   "execution_count": 3,
   "metadata": {},
   "outputs": [
    {
     "data": {
      "text/html": [
       "<div>\n",
       "<style scoped>\n",
       "    .dataframe tbody tr th:only-of-type {\n",
       "        vertical-align: middle;\n",
       "    }\n",
       "\n",
       "    .dataframe tbody tr th {\n",
       "        vertical-align: top;\n",
       "    }\n",
       "\n",
       "    .dataframe thead th {\n",
       "        text-align: right;\n",
       "    }\n",
       "</style>\n",
       "<table border=\"1\" class=\"dataframe\">\n",
       "  <thead>\n",
       "    <tr style=\"text-align: right;\">\n",
       "      <th></th>\n",
       "      <th>price</th>\n",
       "      <th>id_publicacion</th>\n",
       "      <th>id_city</th>\n",
       "      <th>house_lat</th>\n",
       "      <th>house_long</th>\n",
       "      <th>rooms</th>\n",
       "      <th>bathrooms</th>\n",
       "      <th>squared_meters</th>\n",
       "      <th>builded_squared_meters</th>\n",
       "    </tr>\n",
       "  </thead>\n",
       "  <tbody>\n",
       "    <tr>\n",
       "      <th>count</th>\n",
       "      <td>9.913000e+03</td>\n",
       "      <td>9.913000e+03</td>\n",
       "      <td>9913.000000</td>\n",
       "      <td>9913.000000</td>\n",
       "      <td>9913.000000</td>\n",
       "      <td>9913.000000</td>\n",
       "      <td>9908.000000</td>\n",
       "      <td>9913.000000</td>\n",
       "      <td>9833.000000</td>\n",
       "    </tr>\n",
       "    <tr>\n",
       "      <th>mean</th>\n",
       "      <td>1.601585e+07</td>\n",
       "      <td>9.949530e+08</td>\n",
       "      <td>7.317966</td>\n",
       "      <td>19.362999</td>\n",
       "      <td>-99.248811</td>\n",
       "      <td>3.447897</td>\n",
       "      <td>2.928744</td>\n",
       "      <td>702.975534</td>\n",
       "      <td>347.026787</td>\n",
       "    </tr>\n",
       "    <tr>\n",
       "      <th>std</th>\n",
       "      <td>1.076912e+08</td>\n",
       "      <td>2.336784e+09</td>\n",
       "      <td>3.955357</td>\n",
       "      <td>0.064859</td>\n",
       "      <td>0.218440</td>\n",
       "      <td>1.481502</td>\n",
       "      <td>1.448685</td>\n",
       "      <td>5052.085342</td>\n",
       "      <td>271.950694</td>\n",
       "    </tr>\n",
       "    <tr>\n",
       "      <th>min</th>\n",
       "      <td>1.200000e+05</td>\n",
       "      <td>4.648565e+08</td>\n",
       "      <td>1.000000</td>\n",
       "      <td>18.727068</td>\n",
       "      <td>-99.999353</td>\n",
       "      <td>0.000000</td>\n",
       "      <td>-1.000000</td>\n",
       "      <td>1.000000</td>\n",
       "      <td>0.000000</td>\n",
       "    </tr>\n",
       "    <tr>\n",
       "      <th>25%</th>\n",
       "      <td>2.729800e+06</td>\n",
       "      <td>7.835243e+08</td>\n",
       "      <td>5.000000</td>\n",
       "      <td>19.313780</td>\n",
       "      <td>-99.301985</td>\n",
       "      <td>3.000000</td>\n",
       "      <td>2.000000</td>\n",
       "      <td>150.000000</td>\n",
       "      <td>175.000000</td>\n",
       "    </tr>\n",
       "    <tr>\n",
       "      <th>50%</th>\n",
       "      <td>6.900000e+06</td>\n",
       "      <td>8.020715e+08</td>\n",
       "      <td>7.000000</td>\n",
       "      <td>19.356469</td>\n",
       "      <td>-99.164080</td>\n",
       "      <td>3.000000</td>\n",
       "      <td>3.000000</td>\n",
       "      <td>230.000000</td>\n",
       "      <td>276.000000</td>\n",
       "    </tr>\n",
       "    <tr>\n",
       "      <th>75%</th>\n",
       "      <td>1.743100e+07</td>\n",
       "      <td>8.129334e+08</td>\n",
       "      <td>9.000000</td>\n",
       "      <td>19.403599</td>\n",
       "      <td>-99.131550</td>\n",
       "      <td>4.000000</td>\n",
       "      <td>4.000000</td>\n",
       "      <td>480.000000</td>\n",
       "      <td>450.000000</td>\n",
       "    </tr>\n",
       "    <tr>\n",
       "      <th>max</th>\n",
       "      <td>8.229770e+09</td>\n",
       "      <td>8.238940e+10</td>\n",
       "      <td>16.000000</td>\n",
       "      <td>20.021108</td>\n",
       "      <td>-98.563938</td>\n",
       "      <td>45.000000</td>\n",
       "      <td>33.000000</td>\n",
       "      <td>315000.000000</td>\n",
       "      <td>4883.000000</td>\n",
       "    </tr>\n",
       "  </tbody>\n",
       "</table>\n",
       "</div>"
      ],
      "text/plain": [
       "              price  id_publicacion      id_city    house_lat   house_long  \\\n",
       "count  9.913000e+03    9.913000e+03  9913.000000  9913.000000  9913.000000   \n",
       "mean   1.601585e+07    9.949530e+08     7.317966    19.362999   -99.248811   \n",
       "std    1.076912e+08    2.336784e+09     3.955357     0.064859     0.218440   \n",
       "min    1.200000e+05    4.648565e+08     1.000000    18.727068   -99.999353   \n",
       "25%    2.729800e+06    7.835243e+08     5.000000    19.313780   -99.301985   \n",
       "50%    6.900000e+06    8.020715e+08     7.000000    19.356469   -99.164080   \n",
       "75%    1.743100e+07    8.129334e+08     9.000000    19.403599   -99.131550   \n",
       "max    8.229770e+09    8.238940e+10    16.000000    20.021108   -98.563938   \n",
       "\n",
       "             rooms    bathrooms  squared_meters  builded_squared_meters  \n",
       "count  9913.000000  9908.000000     9913.000000             9833.000000  \n",
       "mean      3.447897     2.928744      702.975534              347.026787  \n",
       "std       1.481502     1.448685     5052.085342              271.950694  \n",
       "min       0.000000    -1.000000        1.000000                0.000000  \n",
       "25%       3.000000     2.000000      150.000000              175.000000  \n",
       "50%       3.000000     3.000000      230.000000              276.000000  \n",
       "75%       4.000000     4.000000      480.000000              450.000000  \n",
       "max      45.000000    33.000000   315000.000000             4883.000000  "
      ]
     },
     "execution_count": 3,
     "metadata": {},
     "output_type": "execute_result"
    }
   ],
   "source": [
    "#Describe Data\n",
    "realestate.describe()"
   ]
  },
  {
   "cell_type": "code",
   "execution_count": 4,
   "metadata": {},
   "outputs": [
    {
     "data": {
      "text/plain": [
       "(9913, 11)"
      ]
     },
     "execution_count": 4,
     "metadata": {},
     "output_type": "execute_result"
    }
   ],
   "source": [
    "# Shape the dataframe\n",
    "realestate.shape"
   ]
  },
  {
   "cell_type": "code",
   "execution_count": 5,
   "metadata": {},
   "outputs": [
    {
     "data": {
      "text/plain": [
       "price                     float64\n",
       "id_publicacion              int64\n",
       "id_city                     int64\n",
       "house_lat                 float64\n",
       "house_long                float64\n",
       "rooms                       int64\n",
       "bathrooms                 float64\n",
       "squared_meters            float64\n",
       "builded_squared_meters    float64\n",
       "house_details              object\n",
       "address                    object\n",
       "dtype: object"
      ]
     },
     "execution_count": 5,
     "metadata": {},
     "output_type": "execute_result"
    }
   ],
   "source": [
    "#Describing Types\n",
    "realestate.dtypes"
   ]
  },
  {
   "cell_type": "code",
   "execution_count": 6,
   "metadata": {},
   "outputs": [
    {
     "data": {
      "text/plain": [
       "price                     9913\n",
       "id_publicacion            9913\n",
       "id_city                   9913\n",
       "house_lat                 9913\n",
       "house_long                9913\n",
       "rooms                     9913\n",
       "bathrooms                 9908\n",
       "squared_meters            9913\n",
       "builded_squared_meters    9833\n",
       "house_details             9880\n",
       "address                   9913\n",
       "dtype: int64"
      ]
     },
     "execution_count": 6,
     "metadata": {},
     "output_type": "execute_result"
    }
   ],
   "source": [
    "#Count to identify Nulls\n",
    "realestate.count()"
   ]
  },
  {
   "cell_type": "code",
   "execution_count": 7,
   "metadata": {},
   "outputs": [],
   "source": [
    "#Clean Dataframe\n",
    "realestate_no_null = realestate.dropna()"
   ]
  },
  {
   "cell_type": "code",
   "execution_count": 8,
   "metadata": {},
   "outputs": [
    {
     "data": {
      "text/plain": [
       "price                     9795\n",
       "id_publicacion            9795\n",
       "id_city                   9795\n",
       "house_lat                 9795\n",
       "house_long                9795\n",
       "rooms                     9795\n",
       "bathrooms                 9795\n",
       "squared_meters            9795\n",
       "builded_squared_meters    9795\n",
       "house_details             9795\n",
       "address                   9795\n",
       "dtype: int64"
      ]
     },
     "execution_count": 8,
     "metadata": {},
     "output_type": "execute_result"
    }
   ],
   "source": [
    "#Print Dataframe\n",
    "realestate_no_null.count()"
   ]
  },
  {
   "cell_type": "markdown",
   "metadata": {},
   "source": [
    "### PLOT LINEAR REGRESSION"
   ]
  },
  {
   "cell_type": "code",
   "execution_count": 9,
   "metadata": {},
   "outputs": [],
   "source": [
    "#Define variables\n",
    "x1 = realestate_no_null[\"builded_squared_meters\"]\n",
    "y1 = realestate_no_null[\"price\"]"
   ]
  },
  {
   "cell_type": "code",
   "execution_count": 10,
   "metadata": {},
   "outputs": [
    {
     "data": {
      "text/plain": [
       "<matplotlib.collections.PathCollection at 0x28eae59c6a0>"
      ]
     },
     "execution_count": 10,
     "metadata": {},
     "output_type": "execute_result"
    },
    {
     "data": {
      "image/png": "[encoded data removed]",
      "text/plain": [
       "<Figure size 432x288 with 1 Axes>"
      ]
     },
     "metadata": {
      "needs_background": "light"
     },
     "output_type": "display_data"
    }
   ],
   "source": [
    "plt.scatter(x1, y1)"
   ]
  },
  {
   "cell_type": "markdown",
   "metadata": {},
   "source": [
    "# EXTENSIVE DATA CLEANSING\n",
    "After seen the poor linear regresion on original data"
   ]
  },
  {
   "cell_type": "markdown",
   "metadata": {},
   "source": [
    "## Create an INDEX with build_squared_meters/price"
   ]
  },
  {
   "cell_type": "code",
   "execution_count": 11,
   "metadata": {},
   "outputs": [
    {
     "name": "stderr",
     "output_type": "stream",
     "text": [
      "<ipython-input-11-5821cfa17f77>:1: SettingWithCopyWarning: \n",
      "A value is trying to be set on a copy of a slice from a DataFrame.\n",
      "Try using .loc[row_indexer,col_indexer] = value instead\n",
      "\n",
      "See the caveats in the documentation: https://pandas.pydata.org/pandas-docs/stable/user_guide/indexing.html#returning-a-view-versus-a-copy\n",
      "  realestate_no_null['index'] = realestate_no_null.price / realestate_no_null.builded_squared_meters\n"
     ]
    }
   ],
   "source": [
    "realestate_no_null['index'] = realestate_no_null.price / realestate_no_null.builded_squared_meters"
   ]
  },
  {
   "cell_type": "code",
   "execution_count": 12,
   "metadata": {},
   "outputs": [
    {
     "data": {
      "text/plain": [
       "price                     9795\n",
       "id_publicacion            9795\n",
       "id_city                   9795\n",
       "house_lat                 9795\n",
       "house_long                9795\n",
       "rooms                     9795\n",
       "bathrooms                 9795\n",
       "squared_meters            9795\n",
       "builded_squared_meters    9795\n",
       "house_details             9795\n",
       "address                   9795\n",
       "index                     9795\n",
       "dtype: int64"
      ]
     },
     "execution_count": 12,
     "metadata": {},
     "output_type": "execute_result"
    }
   ],
   "source": [
    "realestate_no_null.count()"
   ]
  },
  {
   "cell_type": "code",
   "execution_count": 13,
   "metadata": {},
   "outputs": [
    {
     "data": {
      "text/plain": [
       "60"
      ]
     },
     "execution_count": 13,
     "metadata": {},
     "output_type": "execute_result"
    }
   ],
   "source": [
    "pd.options.display.max_rows"
   ]
  },
  {
   "cell_type": "code",
   "execution_count": 14,
   "metadata": {},
   "outputs": [
    {
     "data": {
      "text/html": [
       "<div>\n",
       "<style scoped>\n",
       "    .dataframe tbody tr th:only-of-type {\n",
       "        vertical-align: middle;\n",
       "    }\n",
       "\n",
       "    .dataframe tbody tr th {\n",
       "        vertical-align: top;\n",
       "    }\n",
       "\n",
       "    .dataframe thead th {\n",
       "        text-align: right;\n",
       "    }\n",
       "</style>\n",
       "<table border=\"1\" class=\"dataframe\">\n",
       "  <thead>\n",
       "    <tr style=\"text-align: right;\">\n",
       "      <th></th>\n",
       "      <th>price</th>\n",
       "      <th>id_publicacion</th>\n",
       "      <th>id_city</th>\n",
       "      <th>house_lat</th>\n",
       "      <th>house_long</th>\n",
       "      <th>rooms</th>\n",
       "      <th>bathrooms</th>\n",
       "      <th>squared_meters</th>\n",
       "      <th>builded_squared_meters</th>\n",
       "      <th>house_details</th>\n",
       "      <th>address</th>\n",
       "      <th>index</th>\n",
       "    </tr>\n",
       "  </thead>\n",
       "  <tbody>\n",
       "    <tr>\n",
       "      <th>0</th>\n",
       "      <td>16500000.0</td>\n",
       "      <td>793771458</td>\n",
       "      <td>4</td>\n",
       "      <td>19.383400</td>\n",
       "      <td>-99.153381</td>\n",
       "      <td>7</td>\n",
       "      <td>4.0</td>\n",
       "      <td>252.0</td>\n",
       "      <td>490.0</td>\n",
       "      <td>EXCELENTE OPORTUNIDAD PARA INVERSIONISTAS, CON...</td>\n",
       "      <td>Palenque 413, Narvarte, Benito Juarez, Distrit...</td>\n",
       "      <td>33673.469388</td>\n",
       "    </tr>\n",
       "    <tr>\n",
       "      <th>1</th>\n",
       "      <td>22000000.0</td>\n",
       "      <td>822644893</td>\n",
       "      <td>4</td>\n",
       "      <td>19.390625</td>\n",
       "      <td>-99.176448</td>\n",
       "      <td>2</td>\n",
       "      <td>5.0</td>\n",
       "      <td>650.0</td>\n",
       "      <td>650.0</td>\n",
       "      <td>Casa muy amplia con 650 m2 de construccion y e...</td>\n",
       "      <td>Alabama 89, Napoles, Benito Juarez, Distrito F...</td>\n",
       "      <td>33846.153846</td>\n",
       "    </tr>\n",
       "    <tr>\n",
       "      <th>2</th>\n",
       "      <td>26000000.0</td>\n",
       "      <td>823060505</td>\n",
       "      <td>6</td>\n",
       "      <td>19.355168</td>\n",
       "      <td>-99.176567</td>\n",
       "      <td>4</td>\n",
       "      <td>4.0</td>\n",
       "      <td>345.0</td>\n",
       "      <td>347.0</td>\n",
       "      <td>Vive en una de las colonias con mayor plusvali...</td>\n",
       "      <td>Manzano 30, Florida, Alvaro Obregon, Distrito ...</td>\n",
       "      <td>74927.953890</td>\n",
       "    </tr>\n",
       "    <tr>\n",
       "      <th>3</th>\n",
       "      <td>43000000.0</td>\n",
       "      <td>822087474</td>\n",
       "      <td>15</td>\n",
       "      <td>19.361988</td>\n",
       "      <td>-99.661890</td>\n",
       "      <td>4</td>\n",
       "      <td>6.0</td>\n",
       "      <td>416.0</td>\n",
       "      <td>601.0</td>\n",
       "      <td>EXCELENTE CASA EN VENTA EN CUMBRES SANTA FE \\n...</td>\n",
       "      <td>Santa Fe Cuajimalpa, Cuajimalpa De Morelos, Di...</td>\n",
       "      <td>71547.420965</td>\n",
       "    </tr>\n",
       "    <tr>\n",
       "      <th>4</th>\n",
       "      <td>18500000.0</td>\n",
       "      <td>823066941</td>\n",
       "      <td>5</td>\n",
       "      <td>19.353775</td>\n",
       "      <td>-99.157975</td>\n",
       "      <td>5</td>\n",
       "      <td>5.0</td>\n",
       "      <td>167.0</td>\n",
       "      <td>302.0</td>\n",
       "      <td>Espectacular casa en venta, excelente ubicacio...</td>\n",
       "      <td>Xicotencatl 240, Del Carmen, Coyoacan, Distrit...</td>\n",
       "      <td>61258.278146</td>\n",
       "    </tr>\n",
       "  </tbody>\n",
       "</table>\n",
       "</div>"
      ],
      "text/plain": [
       "        price  id_publicacion  id_city  house_lat  house_long  rooms  \\\n",
       "0  16500000.0       793771458        4  19.383400  -99.153381      7   \n",
       "1  22000000.0       822644893        4  19.390625  -99.176448      2   \n",
       "2  26000000.0       823060505        6  19.355168  -99.176567      4   \n",
       "3  43000000.0       822087474       15  19.361988  -99.661890      4   \n",
       "4  18500000.0       823066941        5  19.353775  -99.157975      5   \n",
       "\n",
       "   bathrooms  squared_meters  builded_squared_meters  \\\n",
       "0        4.0           252.0                   490.0   \n",
       "1        5.0           650.0                   650.0   \n",
       "2        4.0           345.0                   347.0   \n",
       "3        6.0           416.0                   601.0   \n",
       "4        5.0           167.0                   302.0   \n",
       "\n",
       "                                       house_details  \\\n",
       "0  EXCELENTE OPORTUNIDAD PARA INVERSIONISTAS, CON...   \n",
       "1  Casa muy amplia con 650 m2 de construccion y e...   \n",
       "2  Vive en una de las colonias con mayor plusvali...   \n",
       "3  EXCELENTE CASA EN VENTA EN CUMBRES SANTA FE \\n...   \n",
       "4  Espectacular casa en venta, excelente ubicacio...   \n",
       "\n",
       "                                             address         index  \n",
       "0  Palenque 413, Narvarte, Benito Juarez, Distrit...  33673.469388  \n",
       "1  Alabama 89, Napoles, Benito Juarez, Distrito F...  33846.153846  \n",
       "2  Manzano 30, Florida, Alvaro Obregon, Distrito ...  74927.953890  \n",
       "3  Santa Fe Cuajimalpa, Cuajimalpa De Morelos, Di...  71547.420965  \n",
       "4  Xicotencatl 240, Del Carmen, Coyoacan, Distrit...  61258.278146  "
      ]
     },
     "execution_count": 14,
     "metadata": {},
     "output_type": "execute_result"
    }
   ],
   "source": [
    "realestate_no_null.head()"
   ]
  },
  {
   "cell_type": "markdown",
   "metadata": {},
   "source": [
    "## Optimizing Data"
   ]
  },
  {
   "cell_type": "code",
   "execution_count": 15,
   "metadata": {},
   "outputs": [
    {
     "data": {
      "text/plain": [
       "0       True\n",
       "1       True\n",
       "2       True\n",
       "3       True\n",
       "4       True\n",
       "        ... \n",
       "9908    True\n",
       "9909    True\n",
       "9910    True\n",
       "9911    True\n",
       "9912    True\n",
       "Name: builded_squared_meters, Length: 9795, dtype: bool"
      ]
     },
     "execution_count": 15,
     "metadata": {},
     "output_type": "execute_result"
    }
   ],
   "source": [
    "#Data Cleansing with values < 50 squared meters\n",
    "is_m2 =  realestate_no_null['builded_squared_meters']>=50\n",
    "is_m2"
   ]
  },
  {
   "cell_type": "code",
   "execution_count": 16,
   "metadata": {},
   "outputs": [
    {
     "data": {
      "text/plain": [
       "(9449, 12)"
      ]
     },
     "execution_count": 16,
     "metadata": {},
     "output_type": "execute_result"
    }
   ],
   "source": [
    "realestate_clean = realestate_no_null[is_m2]\n",
    "realestate_clean.shape"
   ]
  },
  {
   "cell_type": "code",
   "execution_count": 17,
   "metadata": {},
   "outputs": [
    {
     "data": {
      "text/plain": [
       "0       True\n",
       "1       True\n",
       "2       True\n",
       "3       True\n",
       "4       True\n",
       "        ... \n",
       "9908    True\n",
       "9909    True\n",
       "9910    True\n",
       "9911    True\n",
       "9912    True\n",
       "Name: price, Length: 9795, dtype: bool"
      ]
     },
     "execution_count": 17,
     "metadata": {},
     "output_type": "execute_result"
    }
   ],
   "source": [
    "#Data Cleansing with values above $300,000,000 MXN\n",
    "is_price =  realestate_no_null['price']<=300000000\n",
    "is_price"
   ]
  },
  {
   "cell_type": "code",
   "execution_count": 18,
   "metadata": {},
   "outputs": [
    {
     "name": "stderr",
     "output_type": "stream",
     "text": [
      "<ipython-input-18-42ec8eaff75f>:1: UserWarning: Boolean Series key will be reindexed to match DataFrame index.\n",
      "  realestate_clean01 = realestate_clean[is_price]\n"
     ]
    },
    {
     "data": {
      "text/plain": [
       "(9441, 12)"
      ]
     },
     "execution_count": 18,
     "metadata": {},
     "output_type": "execute_result"
    }
   ],
   "source": [
    "realestate_clean01 = realestate_clean[is_price]\n",
    "realestate_clean01.shape"
   ]
  },
  {
   "cell_type": "markdown",
   "metadata": {},
   "source": [
    "## CLEAN DATA BASE ON INDEX"
   ]
  },
  {
   "cell_type": "code",
   "execution_count": 19,
   "metadata": {},
   "outputs": [
    {
     "data": {
      "text/html": [
       "<div>\n",
       "<style scoped>\n",
       "    .dataframe tbody tr th:only-of-type {\n",
       "        vertical-align: middle;\n",
       "    }\n",
       "\n",
       "    .dataframe tbody tr th {\n",
       "        vertical-align: top;\n",
       "    }\n",
       "\n",
       "    .dataframe thead th {\n",
       "        text-align: right;\n",
       "    }\n",
       "</style>\n",
       "<table border=\"1\" class=\"dataframe\">\n",
       "  <thead>\n",
       "    <tr style=\"text-align: right;\">\n",
       "      <th></th>\n",
       "      <th>price</th>\n",
       "      <th>id_publicacion</th>\n",
       "      <th>id_city</th>\n",
       "      <th>house_lat</th>\n",
       "      <th>house_long</th>\n",
       "      <th>rooms</th>\n",
       "      <th>bathrooms</th>\n",
       "      <th>squared_meters</th>\n",
       "      <th>builded_squared_meters</th>\n",
       "      <th>index</th>\n",
       "    </tr>\n",
       "  </thead>\n",
       "  <tbody>\n",
       "    <tr>\n",
       "      <th>count</th>\n",
       "      <td>9.441000e+03</td>\n",
       "      <td>9.441000e+03</td>\n",
       "      <td>9441.000000</td>\n",
       "      <td>9441.000000</td>\n",
       "      <td>9441.000000</td>\n",
       "      <td>9441.000000</td>\n",
       "      <td>9441.000000</td>\n",
       "      <td>9441.000000</td>\n",
       "      <td>9441.000000</td>\n",
       "      <td>9.441000e+03</td>\n",
       "    </tr>\n",
       "    <tr>\n",
       "      <th>mean</th>\n",
       "      <td>1.413157e+07</td>\n",
       "      <td>9.789777e+08</td>\n",
       "      <td>7.313314</td>\n",
       "      <td>19.362882</td>\n",
       "      <td>-99.249057</td>\n",
       "      <td>3.502065</td>\n",
       "      <td>2.970660</td>\n",
       "      <td>712.994966</td>\n",
       "      <td>359.445388</td>\n",
       "      <td>3.277079e+04</td>\n",
       "    </tr>\n",
       "    <tr>\n",
       "      <th>std</th>\n",
       "      <td>1.996070e+07</td>\n",
       "      <td>2.216427e+09</td>\n",
       "      <td>3.946775</td>\n",
       "      <td>0.064363</td>\n",
       "      <td>0.217755</td>\n",
       "      <td>1.446218</td>\n",
       "      <td>1.427146</td>\n",
       "      <td>5149.473560</td>\n",
       "      <td>268.264175</td>\n",
       "      <td>4.228796e+04</td>\n",
       "    </tr>\n",
       "    <tr>\n",
       "      <th>min</th>\n",
       "      <td>1.200000e+05</td>\n",
       "      <td>5.626449e+08</td>\n",
       "      <td>1.000000</td>\n",
       "      <td>19.190919</td>\n",
       "      <td>-99.999000</td>\n",
       "      <td>0.000000</td>\n",
       "      <td>-1.000000</td>\n",
       "      <td>1.000000</td>\n",
       "      <td>50.000000</td>\n",
       "      <td>1.230769e+02</td>\n",
       "    </tr>\n",
       "    <tr>\n",
       "      <th>25%</th>\n",
       "      <td>2.773000e+06</td>\n",
       "      <td>7.832007e+08</td>\n",
       "      <td>5.000000</td>\n",
       "      <td>19.313878</td>\n",
       "      <td>-99.303587</td>\n",
       "      <td>3.000000</td>\n",
       "      <td>2.000000</td>\n",
       "      <td>150.000000</td>\n",
       "      <td>184.000000</td>\n",
       "      <td>1.415827e+04</td>\n",
       "    </tr>\n",
       "    <tr>\n",
       "      <th>50%</th>\n",
       "      <td>7.000000e+06</td>\n",
       "      <td>8.016643e+08</td>\n",
       "      <td>7.000000</td>\n",
       "      <td>19.356233</td>\n",
       "      <td>-99.164409</td>\n",
       "      <td>3.000000</td>\n",
       "      <td>3.000000</td>\n",
       "      <td>231.000000</td>\n",
       "      <td>282.000000</td>\n",
       "      <td>2.714286e+04</td>\n",
       "    </tr>\n",
       "    <tr>\n",
       "      <th>75%</th>\n",
       "      <td>1.750000e+07</td>\n",
       "      <td>8.129399e+08</td>\n",
       "      <td>9.000000</td>\n",
       "      <td>19.402913</td>\n",
       "      <td>-99.131585</td>\n",
       "      <td>4.000000</td>\n",
       "      <td>4.000000</td>\n",
       "      <td>480.000000</td>\n",
       "      <td>450.000000</td>\n",
       "      <td>4.285714e+04</td>\n",
       "    </tr>\n",
       "    <tr>\n",
       "      <th>max</th>\n",
       "      <td>3.000000e+08</td>\n",
       "      <td>8.206163e+10</td>\n",
       "      <td>16.000000</td>\n",
       "      <td>20.021108</td>\n",
       "      <td>-98.563938</td>\n",
       "      <td>45.000000</td>\n",
       "      <td>33.000000</td>\n",
       "      <td>315000.000000</td>\n",
       "      <td>4883.000000</td>\n",
       "      <td>3.000000e+06</td>\n",
       "    </tr>\n",
       "  </tbody>\n",
       "</table>\n",
       "</div>"
      ],
      "text/plain": [
       "              price  id_publicacion      id_city    house_lat   house_long  \\\n",
       "count  9.441000e+03    9.441000e+03  9441.000000  9441.000000  9441.000000   \n",
       "mean   1.413157e+07    9.789777e+08     7.313314    19.362882   -99.249057   \n",
       "std    1.996070e+07    2.216427e+09     3.946775     0.064363     0.217755   \n",
       "min    1.200000e+05    5.626449e+08     1.000000    19.190919   -99.999000   \n",
       "25%    2.773000e+06    7.832007e+08     5.000000    19.313878   -99.303587   \n",
       "50%    7.000000e+06    8.016643e+08     7.000000    19.356233   -99.164409   \n",
       "75%    1.750000e+07    8.129399e+08     9.000000    19.402913   -99.131585   \n",
       "max    3.000000e+08    8.206163e+10    16.000000    20.021108   -98.563938   \n",
       "\n",
       "             rooms    bathrooms  squared_meters  builded_squared_meters  \\\n",
       "count  9441.000000  9441.000000     9441.000000             9441.000000   \n",
       "mean      3.502065     2.970660      712.994966              359.445388   \n",
       "std       1.446218     1.427146     5149.473560              268.264175   \n",
       "min       0.000000    -1.000000        1.000000               50.000000   \n",
       "25%       3.000000     2.000000      150.000000              184.000000   \n",
       "50%       3.000000     3.000000      231.000000              282.000000   \n",
       "75%       4.000000     4.000000      480.000000              450.000000   \n",
       "max      45.000000    33.000000   315000.000000             4883.000000   \n",
       "\n",
       "              index  \n",
       "count  9.441000e+03  \n",
       "mean   3.277079e+04  \n",
       "std    4.228796e+04  \n",
       "min    1.230769e+02  \n",
       "25%    1.415827e+04  \n",
       "50%    2.714286e+04  \n",
       "75%    4.285714e+04  \n",
       "max    3.000000e+06  "
      ]
     },
     "execution_count": 19,
     "metadata": {},
     "output_type": "execute_result"
    }
   ],
   "source": [
    "realestate_clean01.describe()"
   ]
  },
  {
   "cell_type": "code",
   "execution_count": 20,
   "metadata": {},
   "outputs": [
    {
     "data": {
      "text/plain": [
       "count    9.441000e+03\n",
       "mean     3.277079e+04\n",
       "std      4.228796e+04\n",
       "min      1.230769e+02\n",
       "25%      1.415827e+04\n",
       "50%      2.714286e+04\n",
       "75%      4.285714e+04\n",
       "max      3.000000e+06\n",
       "Name: index, dtype: float64"
      ]
     },
     "execution_count": 20,
     "metadata": {},
     "output_type": "execute_result"
    }
   ],
   "source": [
    "realestate_clean01['index'].describe()"
   ]
  },
  {
   "cell_type": "code",
   "execution_count": 21,
   "metadata": {},
   "outputs": [
    {
     "data": {
      "text/plain": [
       "0        True\n",
       "1        True\n",
       "2        True\n",
       "3        True\n",
       "4        True\n",
       "        ...  \n",
       "9908     True\n",
       "9909     True\n",
       "9910     True\n",
       "9911     True\n",
       "9912    False\n",
       "Name: index, Length: 9441, dtype: bool"
      ]
     },
     "execution_count": 21,
     "metadata": {},
     "output_type": "execute_result"
    }
   ],
   "source": [
    "#Data Cleansing with Index > number\n",
    "is_index_high =  realestate_clean01['index']<=200000\n",
    "is_index_high"
   ]
  },
  {
   "cell_type": "code",
   "execution_count": 22,
   "metadata": {},
   "outputs": [
    {
     "data": {
      "text/plain": [
       "(9431, 12)"
      ]
     },
     "execution_count": 22,
     "metadata": {},
     "output_type": "execute_result"
    }
   ],
   "source": [
    "realestate_clean02 = realestate_clean01[is_index_high]\n",
    "realestate_clean02.shape"
   ]
  },
  {
   "cell_type": "code",
   "execution_count": 23,
   "metadata": {},
   "outputs": [
    {
     "data": {
      "text/plain": [
       "0       True\n",
       "1       True\n",
       "2       True\n",
       "3       True\n",
       "4       True\n",
       "        ... \n",
       "9907    True\n",
       "9908    True\n",
       "9909    True\n",
       "9910    True\n",
       "9911    True\n",
       "Name: index, Length: 9431, dtype: bool"
      ]
     },
     "execution_count": 23,
     "metadata": {},
     "output_type": "execute_result"
    }
   ],
   "source": [
    "#Data Cleansing with Index < number\n",
    "is_index_low =  realestate_clean02['index']>=1000\n",
    "is_index_low"
   ]
  },
  {
   "cell_type": "code",
   "execution_count": 24,
   "metadata": {},
   "outputs": [
    {
     "data": {
      "text/plain": [
       "(9417, 12)"
      ]
     },
     "execution_count": 24,
     "metadata": {},
     "output_type": "execute_result"
    }
   ],
   "source": [
    "realestate_clean02b = realestate_clean02[is_index_low]\n",
    "realestate_clean02b.shape"
   ]
  },
  {
   "cell_type": "markdown",
   "metadata": {},
   "source": [
    "## REMOVE PROPERTIES CATALOGUED AS \"REMATE BANCARIO\""
   ]
  },
  {
   "cell_type": "code",
   "execution_count": 25,
   "metadata": {},
   "outputs": [],
   "source": [
    "realestate_clean03 = realestate_clean02[realestate_clean02['house_details'].str.contains(\"remate bancario\", \n",
    "                                                                                         \"REMATES BANCARIOS\")]"
   ]
  },
  {
   "cell_type": "code",
   "execution_count": 26,
   "metadata": {},
   "outputs": [],
   "source": [
    "realestate_clean04 = realestate_clean02[realestate_clean02['house_details'].str.contains(\"remates bancarios\", \n",
    "                                                                                         \"REMATE BANCARIO\")]"
   ]
  },
  {
   "cell_type": "code",
   "execution_count": 27,
   "metadata": {},
   "outputs": [
    {
     "data": {
      "text/plain": [
       "265"
      ]
     },
     "execution_count": 27,
     "metadata": {},
     "output_type": "execute_result"
    }
   ],
   "source": [
    "list_clean01 = realestate_clean03['id_publicacion'].to_list()\n",
    "len(list_clean01)"
   ]
  },
  {
   "cell_type": "code",
   "execution_count": 28,
   "metadata": {},
   "outputs": [
    {
     "data": {
      "text/plain": [
       "69"
      ]
     },
     "execution_count": 28,
     "metadata": {},
     "output_type": "execute_result"
    }
   ],
   "source": [
    "list_clean02 = realestate_clean04['id_publicacion'].to_list()\n",
    "len(list_clean02)"
   ]
  },
  {
   "cell_type": "code",
   "execution_count": 29,
   "metadata": {},
   "outputs": [
    {
     "data": {
      "text/html": [
       "<div>\n",
       "<style scoped>\n",
       "    .dataframe tbody tr th:only-of-type {\n",
       "        vertical-align: middle;\n",
       "    }\n",
       "\n",
       "    .dataframe tbody tr th {\n",
       "        vertical-align: top;\n",
       "    }\n",
       "\n",
       "    .dataframe thead th {\n",
       "        text-align: right;\n",
       "    }\n",
       "</style>\n",
       "<table border=\"1\" class=\"dataframe\">\n",
       "  <thead>\n",
       "    <tr style=\"text-align: right;\">\n",
       "      <th></th>\n",
       "      <th>price</th>\n",
       "      <th>id_publicacion</th>\n",
       "      <th>id_city</th>\n",
       "      <th>house_lat</th>\n",
       "      <th>house_long</th>\n",
       "      <th>rooms</th>\n",
       "      <th>bathrooms</th>\n",
       "      <th>squared_meters</th>\n",
       "      <th>builded_squared_meters</th>\n",
       "      <th>house_details</th>\n",
       "      <th>address</th>\n",
       "      <th>index</th>\n",
       "    </tr>\n",
       "  </thead>\n",
       "  <tbody>\n",
       "    <tr>\n",
       "      <th>0</th>\n",
       "      <td>16500000.0</td>\n",
       "      <td>793771458</td>\n",
       "      <td>4</td>\n",
       "      <td>19.383400</td>\n",
       "      <td>-99.153381</td>\n",
       "      <td>7</td>\n",
       "      <td>4.0</td>\n",
       "      <td>252.0</td>\n",
       "      <td>490.0</td>\n",
       "      <td>EXCELENTE OPORTUNIDAD PARA INVERSIONISTAS, CON...</td>\n",
       "      <td>Palenque 413, Narvarte, Benito Juarez, Distrit...</td>\n",
       "      <td>33673.469388</td>\n",
       "    </tr>\n",
       "    <tr>\n",
       "      <th>1</th>\n",
       "      <td>22000000.0</td>\n",
       "      <td>822644893</td>\n",
       "      <td>4</td>\n",
       "      <td>19.390625</td>\n",
       "      <td>-99.176448</td>\n",
       "      <td>2</td>\n",
       "      <td>5.0</td>\n",
       "      <td>650.0</td>\n",
       "      <td>650.0</td>\n",
       "      <td>Casa muy amplia con 650 m2 de construccion y e...</td>\n",
       "      <td>Alabama 89, Napoles, Benito Juarez, Distrito F...</td>\n",
       "      <td>33846.153846</td>\n",
       "    </tr>\n",
       "    <tr>\n",
       "      <th>2</th>\n",
       "      <td>26000000.0</td>\n",
       "      <td>823060505</td>\n",
       "      <td>6</td>\n",
       "      <td>19.355168</td>\n",
       "      <td>-99.176567</td>\n",
       "      <td>4</td>\n",
       "      <td>4.0</td>\n",
       "      <td>345.0</td>\n",
       "      <td>347.0</td>\n",
       "      <td>Vive en una de las colonias con mayor plusvali...</td>\n",
       "      <td>Manzano 30, Florida, Alvaro Obregon, Distrito ...</td>\n",
       "      <td>74927.953890</td>\n",
       "    </tr>\n",
       "    <tr>\n",
       "      <th>3</th>\n",
       "      <td>43000000.0</td>\n",
       "      <td>822087474</td>\n",
       "      <td>15</td>\n",
       "      <td>19.361988</td>\n",
       "      <td>-99.661890</td>\n",
       "      <td>4</td>\n",
       "      <td>6.0</td>\n",
       "      <td>416.0</td>\n",
       "      <td>601.0</td>\n",
       "      <td>EXCELENTE CASA EN VENTA EN CUMBRES SANTA FE \\n...</td>\n",
       "      <td>Santa Fe Cuajimalpa, Cuajimalpa De Morelos, Di...</td>\n",
       "      <td>71547.420965</td>\n",
       "    </tr>\n",
       "    <tr>\n",
       "      <th>4</th>\n",
       "      <td>18500000.0</td>\n",
       "      <td>823066941</td>\n",
       "      <td>5</td>\n",
       "      <td>19.353775</td>\n",
       "      <td>-99.157975</td>\n",
       "      <td>5</td>\n",
       "      <td>5.0</td>\n",
       "      <td>167.0</td>\n",
       "      <td>302.0</td>\n",
       "      <td>Espectacular casa en venta, excelente ubicacio...</td>\n",
       "      <td>Xicotencatl 240, Del Carmen, Coyoacan, Distrit...</td>\n",
       "      <td>61258.278146</td>\n",
       "    </tr>\n",
       "    <tr>\n",
       "      <th>...</th>\n",
       "      <td>...</td>\n",
       "      <td>...</td>\n",
       "      <td>...</td>\n",
       "      <td>...</td>\n",
       "      <td>...</td>\n",
       "      <td>...</td>\n",
       "      <td>...</td>\n",
       "      <td>...</td>\n",
       "      <td>...</td>\n",
       "      <td>...</td>\n",
       "      <td>...</td>\n",
       "      <td>...</td>\n",
       "    </tr>\n",
       "    <tr>\n",
       "      <th>9907</th>\n",
       "      <td>9780000.0</td>\n",
       "      <td>807933991</td>\n",
       "      <td>8</td>\n",
       "      <td>19.286104</td>\n",
       "      <td>-99.189508</td>\n",
       "      <td>4</td>\n",
       "      <td>5.0</td>\n",
       "      <td>500.0</td>\n",
       "      <td>409.0</td>\n",
       "      <td>Sala, comedor, estudio, antecomedor, despensa,...</td>\n",
       "      <td>Huehuetan 295, Heroes De Padierna, Tlalpan, Di...</td>\n",
       "      <td>23911.980440</td>\n",
       "    </tr>\n",
       "    <tr>\n",
       "      <th>9908</th>\n",
       "      <td>2950000.0</td>\n",
       "      <td>815932538</td>\n",
       "      <td>8</td>\n",
       "      <td>19.288653</td>\n",
       "      <td>-99.165674</td>\n",
       "      <td>3</td>\n",
       "      <td>1.0</td>\n",
       "      <td>200.0</td>\n",
       "      <td>145.0</td>\n",
       "      <td>Excelente ubicacion cerca de Six Flags, amplio...</td>\n",
       "      <td>7 Sn, Miguel Hidalgo 4a Secc. Amp, Tlalpan, Di...</td>\n",
       "      <td>20344.827586</td>\n",
       "    </tr>\n",
       "    <tr>\n",
       "      <th>9909</th>\n",
       "      <td>6800000.0</td>\n",
       "      <td>806695516</td>\n",
       "      <td>8</td>\n",
       "      <td>19.270892</td>\n",
       "      <td>-99.150190</td>\n",
       "      <td>3</td>\n",
       "      <td>2.0</td>\n",
       "      <td>216.0</td>\n",
       "      <td>187.0</td>\n",
       "      <td>Este conjunto de 26 casas se dividio en 2 fase...</td>\n",
       "      <td>Mirador 7, Tepepan, Tlalpan, Distrito Federal</td>\n",
       "      <td>36363.636364</td>\n",
       "    </tr>\n",
       "    <tr>\n",
       "      <th>9910</th>\n",
       "      <td>2400000.0</td>\n",
       "      <td>809404134</td>\n",
       "      <td>8</td>\n",
       "      <td>19.259785</td>\n",
       "      <td>-99.371561</td>\n",
       "      <td>2</td>\n",
       "      <td>2.0</td>\n",
       "      <td>1000.0</td>\n",
       "      <td>180.0</td>\n",
       "      <td>¡OPORTUNIDAD! \\n \\nADQUIERELA CON UN ENGANCHE ...</td>\n",
       "      <td>Picacho Ajusco Sn, Santo Tomas Ajusco, Tlalpan...</td>\n",
       "      <td>13333.333333</td>\n",
       "    </tr>\n",
       "    <tr>\n",
       "      <th>9911</th>\n",
       "      <td>5390000.0</td>\n",
       "      <td>807790803</td>\n",
       "      <td>8</td>\n",
       "      <td>19.293168</td>\n",
       "      <td>-99.146837</td>\n",
       "      <td>3</td>\n",
       "      <td>3.0</td>\n",
       "      <td>300.0</td>\n",
       "      <td>240.0</td>\n",
       "      <td>Casa: \\n• 200 m2 construccion aproximadamente....</td>\n",
       "      <td>Arenal 15, San Lorenzo Huipulco, Tlalpan, Dist...</td>\n",
       "      <td>22458.333333</td>\n",
       "    </tr>\n",
       "  </tbody>\n",
       "</table>\n",
       "<p>9130 rows × 12 columns</p>\n",
       "</div>"
      ],
      "text/plain": [
       "           price  id_publicacion  id_city  house_lat  house_long  rooms  \\\n",
       "0     16500000.0       793771458        4  19.383400  -99.153381      7   \n",
       "1     22000000.0       822644893        4  19.390625  -99.176448      2   \n",
       "2     26000000.0       823060505        6  19.355168  -99.176567      4   \n",
       "3     43000000.0       822087474       15  19.361988  -99.661890      4   \n",
       "4     18500000.0       823066941        5  19.353775  -99.157975      5   \n",
       "...          ...             ...      ...        ...         ...    ...   \n",
       "9907   9780000.0       807933991        8  19.286104  -99.189508      4   \n",
       "9908   2950000.0       815932538        8  19.288653  -99.165674      3   \n",
       "9909   6800000.0       806695516        8  19.270892  -99.150190      3   \n",
       "9910   2400000.0       809404134        8  19.259785  -99.371561      2   \n",
       "9911   5390000.0       807790803        8  19.293168  -99.146837      3   \n",
       "\n",
       "      bathrooms  squared_meters  builded_squared_meters  \\\n",
       "0           4.0           252.0                   490.0   \n",
       "1           5.0           650.0                   650.0   \n",
       "2           4.0           345.0                   347.0   \n",
       "3           6.0           416.0                   601.0   \n",
       "4           5.0           167.0                   302.0   \n",
       "...         ...             ...                     ...   \n",
       "9907        5.0           500.0                   409.0   \n",
       "9908        1.0           200.0                   145.0   \n",
       "9909        2.0           216.0                   187.0   \n",
       "9910        2.0          1000.0                   180.0   \n",
       "9911        3.0           300.0                   240.0   \n",
       "\n",
       "                                          house_details  \\\n",
       "0     EXCELENTE OPORTUNIDAD PARA INVERSIONISTAS, CON...   \n",
       "1     Casa muy amplia con 650 m2 de construccion y e...   \n",
       "2     Vive en una de las colonias con mayor plusvali...   \n",
       "3     EXCELENTE CASA EN VENTA EN CUMBRES SANTA FE \\n...   \n",
       "4     Espectacular casa en venta, excelente ubicacio...   \n",
       "...                                                 ...   \n",
       "9907  Sala, comedor, estudio, antecomedor, despensa,...   \n",
       "9908  Excelente ubicacion cerca de Six Flags, amplio...   \n",
       "9909  Este conjunto de 26 casas se dividio en 2 fase...   \n",
       "9910  ¡OPORTUNIDAD! \\n \\nADQUIERELA CON UN ENGANCHE ...   \n",
       "9911  Casa: \\n• 200 m2 construccion aproximadamente....   \n",
       "\n",
       "                                                address         index  \n",
       "0     Palenque 413, Narvarte, Benito Juarez, Distrit...  33673.469388  \n",
       "1     Alabama 89, Napoles, Benito Juarez, Distrito F...  33846.153846  \n",
       "2     Manzano 30, Florida, Alvaro Obregon, Distrito ...  74927.953890  \n",
       "3     Santa Fe Cuajimalpa, Cuajimalpa De Morelos, Di...  71547.420965  \n",
       "4     Xicotencatl 240, Del Carmen, Coyoacan, Distrit...  61258.278146  \n",
       "...                                                 ...           ...  \n",
       "9907  Huehuetan 295, Heroes De Padierna, Tlalpan, Di...  23911.980440  \n",
       "9908  7 Sn, Miguel Hidalgo 4a Secc. Amp, Tlalpan, Di...  20344.827586  \n",
       "9909      Mirador 7, Tepepan, Tlalpan, Distrito Federal  36363.636364  \n",
       "9910  Picacho Ajusco Sn, Santo Tomas Ajusco, Tlalpan...  13333.333333  \n",
       "9911  Arenal 15, San Lorenzo Huipulco, Tlalpan, Dist...  22458.333333  \n",
       "\n",
       "[9130 rows x 12 columns]"
      ]
     },
     "execution_count": 29,
     "metadata": {},
     "output_type": "execute_result"
    }
   ],
   "source": [
    "new_clean01 = realestate_clean02[~realestate_clean02.id_publicacion.isin(list_clean01)]\n",
    "new_clean02 = new_clean01[~new_clean01.id_publicacion.isin(list_clean02)]\n",
    "new_clean02"
   ]
  },
  {
   "cell_type": "markdown",
   "metadata": {},
   "source": [
    "## REMOVE PROPERTIES CATALOGUED AS \"RENTA\""
   ]
  },
  {
   "cell_type": "code",
   "execution_count": 30,
   "metadata": {},
   "outputs": [],
   "source": [
    "realestate_clean05 = new_clean02[new_clean02['house_details'].str.contains(\"RENTA\", \"renta\")]"
   ]
  },
  {
   "cell_type": "code",
   "execution_count": 31,
   "metadata": {},
   "outputs": [
    {
     "data": {
      "text/plain": [
       "76"
      ]
     },
     "execution_count": 31,
     "metadata": {},
     "output_type": "execute_result"
    }
   ],
   "source": [
    "list_clean03 = realestate_clean05['id_publicacion'].to_list()\n",
    "len(list_clean03)"
   ]
  },
  {
   "cell_type": "code",
   "execution_count": 32,
   "metadata": {
    "scrolled": false
   },
   "outputs": [],
   "source": [
    "realestate_clean06 = new_clean02[new_clean02['house_details'].str.contains(\"Renta\")]"
   ]
  },
  {
   "cell_type": "code",
   "execution_count": 33,
   "metadata": {},
   "outputs": [
    {
     "data": {
      "text/plain": [
       "48"
      ]
     },
     "execution_count": 33,
     "metadata": {},
     "output_type": "execute_result"
    }
   ],
   "source": [
    "list_clean04 = realestate_clean06['id_publicacion'].to_list()\n",
    "len(list_clean04)"
   ]
  },
  {
   "cell_type": "code",
   "execution_count": 34,
   "metadata": {},
   "outputs": [
    {
     "data": {
      "text/html": [
       "<div>\n",
       "<style scoped>\n",
       "    .dataframe tbody tr th:only-of-type {\n",
       "        vertical-align: middle;\n",
       "    }\n",
       "\n",
       "    .dataframe tbody tr th {\n",
       "        vertical-align: top;\n",
       "    }\n",
       "\n",
       "    .dataframe thead th {\n",
       "        text-align: right;\n",
       "    }\n",
       "</style>\n",
       "<table border=\"1\" class=\"dataframe\">\n",
       "  <thead>\n",
       "    <tr style=\"text-align: right;\">\n",
       "      <th></th>\n",
       "      <th>price</th>\n",
       "      <th>id_publicacion</th>\n",
       "      <th>id_city</th>\n",
       "      <th>house_lat</th>\n",
       "      <th>house_long</th>\n",
       "      <th>rooms</th>\n",
       "      <th>bathrooms</th>\n",
       "      <th>squared_meters</th>\n",
       "      <th>builded_squared_meters</th>\n",
       "      <th>house_details</th>\n",
       "      <th>address</th>\n",
       "      <th>index</th>\n",
       "    </tr>\n",
       "  </thead>\n",
       "  <tbody>\n",
       "    <tr>\n",
       "      <th>0</th>\n",
       "      <td>16500000.0</td>\n",
       "      <td>793771458</td>\n",
       "      <td>4</td>\n",
       "      <td>19.383400</td>\n",
       "      <td>-99.153381</td>\n",
       "      <td>7</td>\n",
       "      <td>4.0</td>\n",
       "      <td>252.0</td>\n",
       "      <td>490.0</td>\n",
       "      <td>EXCELENTE OPORTUNIDAD PARA INVERSIONISTAS, CON...</td>\n",
       "      <td>Palenque 413, Narvarte, Benito Juarez, Distrit...</td>\n",
       "      <td>33673.469388</td>\n",
       "    </tr>\n",
       "    <tr>\n",
       "      <th>1</th>\n",
       "      <td>22000000.0</td>\n",
       "      <td>822644893</td>\n",
       "      <td>4</td>\n",
       "      <td>19.390625</td>\n",
       "      <td>-99.176448</td>\n",
       "      <td>2</td>\n",
       "      <td>5.0</td>\n",
       "      <td>650.0</td>\n",
       "      <td>650.0</td>\n",
       "      <td>Casa muy amplia con 650 m2 de construccion y e...</td>\n",
       "      <td>Alabama 89, Napoles, Benito Juarez, Distrito F...</td>\n",
       "      <td>33846.153846</td>\n",
       "    </tr>\n",
       "    <tr>\n",
       "      <th>2</th>\n",
       "      <td>26000000.0</td>\n",
       "      <td>823060505</td>\n",
       "      <td>6</td>\n",
       "      <td>19.355168</td>\n",
       "      <td>-99.176567</td>\n",
       "      <td>4</td>\n",
       "      <td>4.0</td>\n",
       "      <td>345.0</td>\n",
       "      <td>347.0</td>\n",
       "      <td>Vive en una de las colonias con mayor plusvali...</td>\n",
       "      <td>Manzano 30, Florida, Alvaro Obregon, Distrito ...</td>\n",
       "      <td>74927.953890</td>\n",
       "    </tr>\n",
       "    <tr>\n",
       "      <th>3</th>\n",
       "      <td>43000000.0</td>\n",
       "      <td>822087474</td>\n",
       "      <td>15</td>\n",
       "      <td>19.361988</td>\n",
       "      <td>-99.661890</td>\n",
       "      <td>4</td>\n",
       "      <td>6.0</td>\n",
       "      <td>416.0</td>\n",
       "      <td>601.0</td>\n",
       "      <td>EXCELENTE CASA EN VENTA EN CUMBRES SANTA FE \\n...</td>\n",
       "      <td>Santa Fe Cuajimalpa, Cuajimalpa De Morelos, Di...</td>\n",
       "      <td>71547.420965</td>\n",
       "    </tr>\n",
       "    <tr>\n",
       "      <th>4</th>\n",
       "      <td>18500000.0</td>\n",
       "      <td>823066941</td>\n",
       "      <td>5</td>\n",
       "      <td>19.353775</td>\n",
       "      <td>-99.157975</td>\n",
       "      <td>5</td>\n",
       "      <td>5.0</td>\n",
       "      <td>167.0</td>\n",
       "      <td>302.0</td>\n",
       "      <td>Espectacular casa en venta, excelente ubicacio...</td>\n",
       "      <td>Xicotencatl 240, Del Carmen, Coyoacan, Distrit...</td>\n",
       "      <td>61258.278146</td>\n",
       "    </tr>\n",
       "    <tr>\n",
       "      <th>...</th>\n",
       "      <td>...</td>\n",
       "      <td>...</td>\n",
       "      <td>...</td>\n",
       "      <td>...</td>\n",
       "      <td>...</td>\n",
       "      <td>...</td>\n",
       "      <td>...</td>\n",
       "      <td>...</td>\n",
       "      <td>...</td>\n",
       "      <td>...</td>\n",
       "      <td>...</td>\n",
       "      <td>...</td>\n",
       "    </tr>\n",
       "    <tr>\n",
       "      <th>9907</th>\n",
       "      <td>9780000.0</td>\n",
       "      <td>807933991</td>\n",
       "      <td>8</td>\n",
       "      <td>19.286104</td>\n",
       "      <td>-99.189508</td>\n",
       "      <td>4</td>\n",
       "      <td>5.0</td>\n",
       "      <td>500.0</td>\n",
       "      <td>409.0</td>\n",
       "      <td>Sala, comedor, estudio, antecomedor, despensa,...</td>\n",
       "      <td>Huehuetan 295, Heroes De Padierna, Tlalpan, Di...</td>\n",
       "      <td>23911.980440</td>\n",
       "    </tr>\n",
       "    <tr>\n",
       "      <th>9908</th>\n",
       "      <td>2950000.0</td>\n",
       "      <td>815932538</td>\n",
       "      <td>8</td>\n",
       "      <td>19.288653</td>\n",
       "      <td>-99.165674</td>\n",
       "      <td>3</td>\n",
       "      <td>1.0</td>\n",
       "      <td>200.0</td>\n",
       "      <td>145.0</td>\n",
       "      <td>Excelente ubicacion cerca de Six Flags, amplio...</td>\n",
       "      <td>7 Sn, Miguel Hidalgo 4a Secc. Amp, Tlalpan, Di...</td>\n",
       "      <td>20344.827586</td>\n",
       "    </tr>\n",
       "    <tr>\n",
       "      <th>9909</th>\n",
       "      <td>6800000.0</td>\n",
       "      <td>806695516</td>\n",
       "      <td>8</td>\n",
       "      <td>19.270892</td>\n",
       "      <td>-99.150190</td>\n",
       "      <td>3</td>\n",
       "      <td>2.0</td>\n",
       "      <td>216.0</td>\n",
       "      <td>187.0</td>\n",
       "      <td>Este conjunto de 26 casas se dividio en 2 fase...</td>\n",
       "      <td>Mirador 7, Tepepan, Tlalpan, Distrito Federal</td>\n",
       "      <td>36363.636364</td>\n",
       "    </tr>\n",
       "    <tr>\n",
       "      <th>9910</th>\n",
       "      <td>2400000.0</td>\n",
       "      <td>809404134</td>\n",
       "      <td>8</td>\n",
       "      <td>19.259785</td>\n",
       "      <td>-99.371561</td>\n",
       "      <td>2</td>\n",
       "      <td>2.0</td>\n",
       "      <td>1000.0</td>\n",
       "      <td>180.0</td>\n",
       "      <td>¡OPORTUNIDAD! \\n \\nADQUIERELA CON UN ENGANCHE ...</td>\n",
       "      <td>Picacho Ajusco Sn, Santo Tomas Ajusco, Tlalpan...</td>\n",
       "      <td>13333.333333</td>\n",
       "    </tr>\n",
       "    <tr>\n",
       "      <th>9911</th>\n",
       "      <td>5390000.0</td>\n",
       "      <td>807790803</td>\n",
       "      <td>8</td>\n",
       "      <td>19.293168</td>\n",
       "      <td>-99.146837</td>\n",
       "      <td>3</td>\n",
       "      <td>3.0</td>\n",
       "      <td>300.0</td>\n",
       "      <td>240.0</td>\n",
       "      <td>Casa: \\n• 200 m2 construccion aproximadamente....</td>\n",
       "      <td>Arenal 15, San Lorenzo Huipulco, Tlalpan, Dist...</td>\n",
       "      <td>22458.333333</td>\n",
       "    </tr>\n",
       "  </tbody>\n",
       "</table>\n",
       "<p>9008 rows × 12 columns</p>\n",
       "</div>"
      ],
      "text/plain": [
       "           price  id_publicacion  id_city  house_lat  house_long  rooms  \\\n",
       "0     16500000.0       793771458        4  19.383400  -99.153381      7   \n",
       "1     22000000.0       822644893        4  19.390625  -99.176448      2   \n",
       "2     26000000.0       823060505        6  19.355168  -99.176567      4   \n",
       "3     43000000.0       822087474       15  19.361988  -99.661890      4   \n",
       "4     18500000.0       823066941        5  19.353775  -99.157975      5   \n",
       "...          ...             ...      ...        ...         ...    ...   \n",
       "9907   9780000.0       807933991        8  19.286104  -99.189508      4   \n",
       "9908   2950000.0       815932538        8  19.288653  -99.165674      3   \n",
       "9909   6800000.0       806695516        8  19.270892  -99.150190      3   \n",
       "9910   2400000.0       809404134        8  19.259785  -99.371561      2   \n",
       "9911   5390000.0       807790803        8  19.293168  -99.146837      3   \n",
       "\n",
       "      bathrooms  squared_meters  builded_squared_meters  \\\n",
       "0           4.0           252.0                   490.0   \n",
       "1           5.0           650.0                   650.0   \n",
       "2           4.0           345.0                   347.0   \n",
       "3           6.0           416.0                   601.0   \n",
       "4           5.0           167.0                   302.0   \n",
       "...         ...             ...                     ...   \n",
       "9907        5.0           500.0                   409.0   \n",
       "9908        1.0           200.0                   145.0   \n",
       "9909        2.0           216.0                   187.0   \n",
       "9910        2.0          1000.0                   180.0   \n",
       "9911        3.0           300.0                   240.0   \n",
       "\n",
       "                                          house_details  \\\n",
       "0     EXCELENTE OPORTUNIDAD PARA INVERSIONISTAS, CON...   \n",
       "1     Casa muy amplia con 650 m2 de construccion y e...   \n",
       "2     Vive en una de las colonias con mayor plusvali...   \n",
       "3     EXCELENTE CASA EN VENTA EN CUMBRES SANTA FE \\n...   \n",
       "4     Espectacular casa en venta, excelente ubicacio...   \n",
       "...                                                 ...   \n",
       "9907  Sala, comedor, estudio, antecomedor, despensa,...   \n",
       "9908  Excelente ubicacion cerca de Six Flags, amplio...   \n",
       "9909  Este conjunto de 26 casas se dividio en 2 fase...   \n",
       "9910  ¡OPORTUNIDAD! \\n \\nADQUIERELA CON UN ENGANCHE ...   \n",
       "9911  Casa: \\n• 200 m2 construccion aproximadamente....   \n",
       "\n",
       "                                                address         index  \n",
       "0     Palenque 413, Narvarte, Benito Juarez, Distrit...  33673.469388  \n",
       "1     Alabama 89, Napoles, Benito Juarez, Distrito F...  33846.153846  \n",
       "2     Manzano 30, Florida, Alvaro Obregon, Distrito ...  74927.953890  \n",
       "3     Santa Fe Cuajimalpa, Cuajimalpa De Morelos, Di...  71547.420965  \n",
       "4     Xicotencatl 240, Del Carmen, Coyoacan, Distrit...  61258.278146  \n",
       "...                                                 ...           ...  \n",
       "9907  Huehuetan 295, Heroes De Padierna, Tlalpan, Di...  23911.980440  \n",
       "9908  7 Sn, Miguel Hidalgo 4a Secc. Amp, Tlalpan, Di...  20344.827586  \n",
       "9909      Mirador 7, Tepepan, Tlalpan, Distrito Federal  36363.636364  \n",
       "9910  Picacho Ajusco Sn, Santo Tomas Ajusco, Tlalpan...  13333.333333  \n",
       "9911  Arenal 15, San Lorenzo Huipulco, Tlalpan, Dist...  22458.333333  \n",
       "\n",
       "[9008 rows x 12 columns]"
      ]
     },
     "execution_count": 34,
     "metadata": {},
     "output_type": "execute_result"
    }
   ],
   "source": [
    "new_clean03 = new_clean02[~new_clean02.id_publicacion.isin(list_clean03)]\n",
    "new_clean04 = new_clean03[~new_clean03.id_publicacion.isin(list_clean04)]\n",
    "new_clean04"
   ]
  },
  {
   "cell_type": "code",
   "execution_count": 35,
   "metadata": {},
   "outputs": [
    {
     "data": {
      "text/plain": [
       "price                     9008\n",
       "id_publicacion            9008\n",
       "id_city                   9008\n",
       "house_lat                 9008\n",
       "house_long                9008\n",
       "rooms                     9008\n",
       "bathrooms                 9008\n",
       "squared_meters            9008\n",
       "builded_squared_meters    9008\n",
       "house_details             9008\n",
       "address                   9008\n",
       "index                     9008\n",
       "dtype: int64"
      ]
     },
     "execution_count": 35,
     "metadata": {},
     "output_type": "execute_result"
    }
   ],
   "source": [
    "new_clean04.count()"
   ]
  },
  {
   "cell_type": "code",
   "execution_count": 36,
   "metadata": {},
   "outputs": [
    {
     "data": {
      "text/html": [
       "<div>\n",
       "<style scoped>\n",
       "    .dataframe tbody tr th:only-of-type {\n",
       "        vertical-align: middle;\n",
       "    }\n",
       "\n",
       "    .dataframe tbody tr th {\n",
       "        vertical-align: top;\n",
       "    }\n",
       "\n",
       "    .dataframe thead th {\n",
       "        text-align: right;\n",
       "    }\n",
       "</style>\n",
       "<table border=\"1\" class=\"dataframe\">\n",
       "  <thead>\n",
       "    <tr style=\"text-align: right;\">\n",
       "      <th></th>\n",
       "      <th>price</th>\n",
       "      <th>id_publicacion</th>\n",
       "      <th>id_city</th>\n",
       "      <th>house_lat</th>\n",
       "      <th>house_long</th>\n",
       "      <th>rooms</th>\n",
       "      <th>bathrooms</th>\n",
       "      <th>squared_meters</th>\n",
       "      <th>builded_squared_meters</th>\n",
       "      <th>index</th>\n",
       "    </tr>\n",
       "  </thead>\n",
       "  <tbody>\n",
       "    <tr>\n",
       "      <th>count</th>\n",
       "      <td>9.008000e+03</td>\n",
       "      <td>9.008000e+03</td>\n",
       "      <td>9008.000000</td>\n",
       "      <td>9008.000000</td>\n",
       "      <td>9008.000000</td>\n",
       "      <td>9008.000000</td>\n",
       "      <td>9008.000000</td>\n",
       "      <td>9008.000000</td>\n",
       "      <td>9008.000000</td>\n",
       "      <td>9008.000000</td>\n",
       "    </tr>\n",
       "    <tr>\n",
       "      <th>mean</th>\n",
       "      <td>1.429431e+07</td>\n",
       "      <td>9.854912e+08</td>\n",
       "      <td>7.339920</td>\n",
       "      <td>19.362300</td>\n",
       "      <td>-99.250054</td>\n",
       "      <td>3.507216</td>\n",
       "      <td>2.981683</td>\n",
       "      <td>731.666127</td>\n",
       "      <td>363.007665</td>\n",
       "      <td>32592.804156</td>\n",
       "    </tr>\n",
       "    <tr>\n",
       "      <th>std</th>\n",
       "      <td>1.934740e+07</td>\n",
       "      <td>2.265012e+09</td>\n",
       "      <td>3.962705</td>\n",
       "      <td>0.064171</td>\n",
       "      <td>0.218871</td>\n",
       "      <td>1.459171</td>\n",
       "      <td>1.435562</td>\n",
       "      <td>5267.336086</td>\n",
       "      <td>268.458803</td>\n",
       "      <td>24655.575118</td>\n",
       "    </tr>\n",
       "    <tr>\n",
       "      <th>min</th>\n",
       "      <td>1.200000e+05</td>\n",
       "      <td>5.626449e+08</td>\n",
       "      <td>1.000000</td>\n",
       "      <td>19.190919</td>\n",
       "      <td>-99.999000</td>\n",
       "      <td>0.000000</td>\n",
       "      <td>-1.000000</td>\n",
       "      <td>1.000000</td>\n",
       "      <td>50.000000</td>\n",
       "      <td>123.076923</td>\n",
       "    </tr>\n",
       "    <tr>\n",
       "      <th>25%</th>\n",
       "      <td>2.950000e+06</td>\n",
       "      <td>7.835211e+08</td>\n",
       "      <td>5.000000</td>\n",
       "      <td>19.313518</td>\n",
       "      <td>-99.306807</td>\n",
       "      <td>3.000000</td>\n",
       "      <td>2.000000</td>\n",
       "      <td>150.000000</td>\n",
       "      <td>188.000000</td>\n",
       "      <td>14890.510385</td>\n",
       "    </tr>\n",
       "    <tr>\n",
       "      <th>50%</th>\n",
       "      <td>7.400000e+06</td>\n",
       "      <td>8.015505e+08</td>\n",
       "      <td>7.000000</td>\n",
       "      <td>19.355783</td>\n",
       "      <td>-99.164610</td>\n",
       "      <td>3.000000</td>\n",
       "      <td>3.000000</td>\n",
       "      <td>237.000000</td>\n",
       "      <td>288.000000</td>\n",
       "      <td>27643.253596</td>\n",
       "    </tr>\n",
       "    <tr>\n",
       "      <th>75%</th>\n",
       "      <td>1.790000e+07</td>\n",
       "      <td>8.129275e+08</td>\n",
       "      <td>9.000000</td>\n",
       "      <td>19.401956</td>\n",
       "      <td>-99.131377</td>\n",
       "      <td>4.000000</td>\n",
       "      <td>4.000000</td>\n",
       "      <td>488.000000</td>\n",
       "      <td>457.000000</td>\n",
       "      <td>43250.000000</td>\n",
       "    </tr>\n",
       "    <tr>\n",
       "      <th>max</th>\n",
       "      <td>2.236500e+08</td>\n",
       "      <td>8.206163e+10</td>\n",
       "      <td>16.000000</td>\n",
       "      <td>20.021108</td>\n",
       "      <td>-98.563938</td>\n",
       "      <td>45.000000</td>\n",
       "      <td>33.000000</td>\n",
       "      <td>315000.000000</td>\n",
       "      <td>4883.000000</td>\n",
       "      <td>186779.089376</td>\n",
       "    </tr>\n",
       "  </tbody>\n",
       "</table>\n",
       "</div>"
      ],
      "text/plain": [
       "              price  id_publicacion      id_city    house_lat   house_long  \\\n",
       "count  9.008000e+03    9.008000e+03  9008.000000  9008.000000  9008.000000   \n",
       "mean   1.429431e+07    9.854912e+08     7.339920    19.362300   -99.250054   \n",
       "std    1.934740e+07    2.265012e+09     3.962705     0.064171     0.218871   \n",
       "min    1.200000e+05    5.626449e+08     1.000000    19.190919   -99.999000   \n",
       "25%    2.950000e+06    7.835211e+08     5.000000    19.313518   -99.306807   \n",
       "50%    7.400000e+06    8.015505e+08     7.000000    19.355783   -99.164610   \n",
       "75%    1.790000e+07    8.129275e+08     9.000000    19.401956   -99.131377   \n",
       "max    2.236500e+08    8.206163e+10    16.000000    20.021108   -98.563938   \n",
       "\n",
       "             rooms    bathrooms  squared_meters  builded_squared_meters  \\\n",
       "count  9008.000000  9008.000000     9008.000000             9008.000000   \n",
       "mean      3.507216     2.981683      731.666127              363.007665   \n",
       "std       1.459171     1.435562     5267.336086              268.458803   \n",
       "min       0.000000    -1.000000        1.000000               50.000000   \n",
       "25%       3.000000     2.000000      150.000000              188.000000   \n",
       "50%       3.000000     3.000000      237.000000              288.000000   \n",
       "75%       4.000000     4.000000      488.000000              457.000000   \n",
       "max      45.000000    33.000000   315000.000000             4883.000000   \n",
       "\n",
       "               index  \n",
       "count    9008.000000  \n",
       "mean    32592.804156  \n",
       "std     24655.575118  \n",
       "min       123.076923  \n",
       "25%     14890.510385  \n",
       "50%     27643.253596  \n",
       "75%     43250.000000  \n",
       "max    186779.089376  "
      ]
     },
     "execution_count": 36,
     "metadata": {},
     "output_type": "execute_result"
    }
   ],
   "source": [
    "new_clean04.describe()"
   ]
  },
  {
   "cell_type": "markdown",
   "metadata": {},
   "source": [
    "### Plot linear regression"
   ]
  },
  {
   "cell_type": "code",
   "execution_count": 37,
   "metadata": {},
   "outputs": [],
   "source": [
    "x2 = new_clean04[\"builded_squared_meters\"]\n",
    "y2 = new_clean04[\"price\"]"
   ]
  },
  {
   "cell_type": "code",
   "execution_count": 38,
   "metadata": {},
   "outputs": [
    {
     "data": {
      "text/plain": [
       "<matplotlib.collections.PathCollection at 0x28eae6c7880>"
      ]
     },
     "execution_count": 38,
     "metadata": {},
     "output_type": "execute_result"
    },
    {
     "data": {
      "image/png": "[encoded data removed]",
      "text/plain": [
       "<Figure size 432x288 with 1 Axes>"
      ]
     },
     "metadata": {
      "needs_background": "light"
     },
     "output_type": "display_data"
    }
   ],
   "source": [
    "plt.scatter(x2, y2)"
   ]
  },
  {
   "cell_type": "code",
   "execution_count": 39,
   "metadata": {},
   "outputs": [],
   "source": [
    "#Export file\n",
    "new_clean04.to_csv('cleaned_df_cdmx.csv')"
   ]
  },
  {
   "cell_type": "markdown",
   "metadata": {},
   "source": [
    "# MODEL1 - SINGLE VARIABLE\n",
    "### builded_squared_meters"
   ]
  },
  {
   "cell_type": "code",
   "execution_count": 40,
   "metadata": {},
   "outputs": [
    {
     "name": "stdout",
     "output_type": "stream",
     "text": [
      "Shape:  (9008, 1) (9008, 1)\n"
     ]
    }
   ],
   "source": [
    "# Assign the data to X and y\n",
    "# Note: Sklearn requires a two-dimensional array of values\n",
    "# so we use reshape to create this\n",
    "\n",
    "X = new_clean04[\"builded_squared_meters\"].values.reshape(-1, 1)\n",
    "y = new_clean04[\"price\"].values.reshape(-1, 1)\n",
    "\n",
    "print(\"Shape: \", X.shape, y.shape)"
   ]
  },
  {
   "cell_type": "code",
   "execution_count": 41,
   "metadata": {
    "nbgrader": {
     "grade": false,
     "grade_id": "cell-3d94ebba220cf0cb",
     "locked": false,
     "schema_version": 1,
     "solution": true
    }
   },
   "outputs": [
    {
     "data": {
      "text/plain": [
       "Text(0, 0.5, 'price')"
      ]
     },
     "execution_count": 41,
     "metadata": {},
     "output_type": "execute_result"
    },
    {
     "data": {
      "image/png": "[encoded data removed]",
      "text/plain": [
       "<Figure size 432x288 with 1 Axes>"
      ]
     },
     "metadata": {
      "needs_background": "light"
     },
     "output_type": "display_data"
    }
   ],
   "source": [
    "# Plot the data to see if a linear trend exists\n",
    "\n",
    "### BEGIN SOLUTION\n",
    "plt.scatter(X, y)\n",
    "plt.xlabel(\"builded_squared_meters\")\n",
    "plt.ylabel(\"price\")\n",
    "### END SOLUTION"
   ]
  },
  {
   "cell_type": "code",
   "execution_count": 42,
   "metadata": {
    "nbgrader": {
     "grade": false,
     "grade_id": "cell-9042a62fdddc21ba",
     "locked": false,
     "schema_version": 1,
     "solution": true
    }
   },
   "outputs": [],
   "source": [
    "# Use sklearn's `train_test_split` to split the data into training and testing\n",
    "\n",
    "from sklearn.model_selection import train_test_split\n",
    "\n",
    "### BEGIN SOLUTION\n",
    "\n",
    "X_train, X_test, y_train, y_test = train_test_split(X, y, random_state=42)\n",
    "\n",
    "### END SOLUTION"
   ]
  },
  {
   "cell_type": "code",
   "execution_count": 43,
   "metadata": {
    "nbgrader": {
     "grade": false,
     "grade_id": "cell-c28431477001b4ca",
     "locked": false,
     "schema_version": 1,
     "solution": true
    }
   },
   "outputs": [],
   "source": [
    "# Create the model\n",
    "\n",
    "### BEGIN SOLUTION\n",
    "\n",
    "from sklearn.linear_model import LinearRegression\n",
    "\n",
    "model = LinearRegression()\n",
    "\n",
    "### END SOLUTION"
   ]
  },
  {
   "cell_type": "code",
   "execution_count": 44,
   "metadata": {
    "nbgrader": {
     "grade": false,
     "grade_id": "cell-cf45418a342b12fd",
     "locked": false,
     "schema_version": 1,
     "solution": true
    }
   },
   "outputs": [
    {
     "data": {
      "text/plain": [
       "LinearRegression()"
      ]
     },
     "execution_count": 44,
     "metadata": {},
     "output_type": "execute_result"
    }
   ],
   "source": [
    "# Fit the model to the training data. \n",
    "\n",
    "### BEGIN SOLUTION\n",
    "\n",
    "model.fit(X_train, y_train)\n",
    "\n",
    "### END SOLUTION"
   ]
  },
  {
   "cell_type": "code",
   "execution_count": 45,
   "metadata": {
    "nbgrader": {
     "grade": false,
     "grade_id": "cell-2012c0fff63f915a",
     "locked": false,
     "schema_version": 1,
     "solution": true
    }
   },
   "outputs": [
    {
     "name": "stdout",
     "output_type": "stream",
     "text": [
      "Mean Squared Error (MSE): 186056492979506.06\n",
      "R-squared (R2 ): 0.5201046232844085\n"
     ]
    }
   ],
   "source": [
    "# Calculate the mean_squared_error and the r-squared value\n",
    "# for the testing data\n",
    "\n",
    "from sklearn.metrics import mean_squared_error, r2_score\n",
    "\n",
    "### BEGIN SOLUTION\n",
    "\n",
    "# Use our model to make predictions\n",
    "predicted = model.predict(X_test)\n",
    "\n",
    "# Score the predictions with mse and r2\n",
    "mse = mean_squared_error(y_test, predicted)\n",
    "r2 = r2_score(y_test, predicted)\n",
    "\n",
    "print(f\"Mean Squared Error (MSE): {mse}\")\n",
    "print(f\"R-squared (R2 ): {r2}\")\n",
    "\n",
    "### END SOLUTION"
   ]
  },
  {
   "cell_type": "code",
   "execution_count": 46,
   "metadata": {
    "nbgrader": {
     "grade": false,
     "grade_id": "cell-280db723dfdf1dc7",
     "locked": false,
     "schema_version": 1,
     "solution": true
    }
   },
   "outputs": [
    {
     "data": {
      "text/plain": [
       "0.5201046232844085"
      ]
     },
     "execution_count": 46,
     "metadata": {},
     "output_type": "execute_result"
    }
   ],
   "source": [
    "# Call the `score` method on the model to show the r2 score\n",
    "\n",
    "### BEGIN SOLUTION\n",
    "model.score(X_test, y_test)\n",
    "### END SOLUTION"
   ]
  },
  {
   "cell_type": "code",
   "execution_count": 47,
   "metadata": {},
   "outputs": [],
   "source": [
    "with open('model01.pkl', 'wb') as fid:\n",
    "    pickle.dump(model, fid)"
   ]
  },
  {
   "cell_type": "code",
   "execution_count": 48,
   "metadata": {},
   "outputs": [
    {
     "name": "stdout",
     "output_type": "stream",
     "text": [
      "<class 'sklearn.linear_model._base.LinearRegression'>\n",
      "[[16333373.3758432]]\n"
     ]
    }
   ],
   "source": [
    "with open('model01.pkl', 'rb') as fid:\n",
    "    housemodel = pickle.load(fid)\n",
    "    print(type(housemodel))\n",
    "    print(housemodel.predict([[400]]))"
   ]
  },
  {
   "cell_type": "markdown",
   "metadata": {},
   "source": [
    "# MODEL 2 - MULTIVARIABLE\n",
    "### squared_meters, builded_squared_meters"
   ]
  },
  {
   "cell_type": "code",
   "execution_count": 49,
   "metadata": {},
   "outputs": [
    {
     "name": "stdout",
     "output_type": "stream",
     "text": [
      "(9008, 2) (9008, 1)\n"
     ]
    }
   ],
   "source": [
    "# Assign the data to X10 and y10\n",
    "\n",
    "X10 = new_clean04[[\"squared_meters\", \"builded_squared_meters\"]]\n",
    "y10 = new_clean04[\"price\"].values.reshape(-1, 1)\n",
    "print(X10.shape, y10.shape)"
   ]
  },
  {
   "cell_type": "code",
   "execution_count": 50,
   "metadata": {},
   "outputs": [],
   "source": [
    "# Use train_test_split to create training and testing data\n",
    "\n",
    "# YOUR CODE HERE\n",
    "from sklearn.model_selection import train_test_split\n",
    "\n",
    "### BEGIN SOLUTION\n",
    "\n",
    "X_train10, X_test10, y_train10, y_test10 = train_test_split(X10, y10, random_state=42)\n",
    "\n",
    "### END SOLUTION"
   ]
  },
  {
   "cell_type": "code",
   "execution_count": 51,
   "metadata": {},
   "outputs": [],
   "source": [
    "# Create the model using LinearRegression\n",
    "\n",
    "### BEGIN SOLUTION\n",
    "from sklearn.linear_model import LinearRegression\n",
    "model2 = LinearRegression()\n",
    "### END SOLUTION"
   ]
  },
  {
   "cell_type": "code",
   "execution_count": 52,
   "metadata": {},
   "outputs": [
    {
     "name": "stdout",
     "output_type": "stream",
     "text": [
      "Training Score: 0.5746046993082721\n",
      "Testing Score: 0.519970495883163\n"
     ]
    }
   ],
   "source": [
    "# Fit the model to the training data and calculate the scores for the training and testing data\n",
    "# Fitting our model with all of our features in X\n",
    "model2.fit(X_train10, y_train10)\n",
    "training_score10 = model2.score(X_train10, y_train10)\n",
    "testing_score10 = model2.score(X_test10, y_test10)\n",
    "\n",
    "print(f\"Training Score: {training_score10}\")\n",
    "print(f\"Testing Score: {testing_score10}\")"
   ]
  },
  {
   "cell_type": "code",
   "execution_count": 53,
   "metadata": {},
   "outputs": [
    {
     "data": {
      "text/plain": [
       "Text(0.5, 1.0, 'Residual Plot')"
      ]
     },
     "execution_count": 53,
     "metadata": {},
     "output_type": "execute_result"
    },
    {
     "data": {
      "image/png": "[encoded data removed]",
      "text/plain": [
       "<Figure size 432x288 with 1 Axes>"
      ]
     },
     "metadata": {
      "needs_background": "light"
     },
     "output_type": "display_data"
    }
   ],
   "source": [
    "# Plot the Residuals for the Training and Testing data\n",
    "\n",
    "### BEGIN SOLUTION\n",
    "plt.scatter(model2.predict(X_train10), model2.predict(X_train10) - y_train10, c=\"blue\", label=\"Training Data\")\n",
    "plt.scatter(model2.predict(X_test10), model2.predict(X_test10) - y_test10, c=\"orange\", label=\"Testing Data\")\n",
    "plt.legend()\n",
    "plt.hlines(y=0, xmin=y.min(), xmax=y.max())\n",
    "plt.title(\"Residual Plot\")\n",
    "### END SOLUTION"
   ]
  },
  {
   "cell_type": "code",
   "execution_count": 54,
   "metadata": {},
   "outputs": [
    {
     "name": "stdout",
     "output_type": "stream",
     "text": [
      "Mean Squared Error (MSE): 186108494467953.4\n",
      "R-squared (R2 ): 0.519970495883163\n"
     ]
    }
   ],
   "source": [
    "# Calculate the mean_squared_error and the r-squared value\n",
    "# for the testing data\n",
    "\n",
    "from sklearn.metrics import mean_squared_error, r2_score\n",
    "\n",
    "### BEGIN SOLUTION\n",
    "\n",
    "# Use our model to make predictions\n",
    "predicted2 = model2.predict(X_test10)\n",
    "\n",
    "# Score the predictions with mse and r2\n",
    "mse_2 = mean_squared_error(y_test10, predicted2)\n",
    "r2_2 = r2_score(y_test10, predicted2)\n",
    "\n",
    "print(f\"Mean Squared Error (MSE): {mse_2}\")\n",
    "print(f\"R-squared (R2 ): {r2_2}\")\n",
    "\n",
    "### END SOLUTION"
   ]
  },
  {
   "cell_type": "code",
   "execution_count": 55,
   "metadata": {},
   "outputs": [
    {
     "data": {
      "text/plain": [
       "0.519970495883163"
      ]
     },
     "execution_count": 55,
     "metadata": {},
     "output_type": "execute_result"
    }
   ],
   "source": [
    "# Call the `score` method on the model to show the r2 score\n",
    "\n",
    "### BEGIN SOLUTION\n",
    "model2.score(X_test10, y_test10)\n",
    "### END SOLUTION"
   ]
  },
  {
   "cell_type": "code",
   "execution_count": 56,
   "metadata": {},
   "outputs": [],
   "source": [
    "with open('model02.pkl', 'wb') as fid:\n",
    "    pickle.dump(model2, fid)"
   ]
  },
  {
   "cell_type": "code",
   "execution_count": 57,
   "metadata": {},
   "outputs": [
    {
     "name": "stdout",
     "output_type": "stream",
     "text": [
      "<class 'sklearn.linear_model._base.LinearRegression'>\n",
      "[[21804974.6284422]]\n"
     ]
    }
   ],
   "source": [
    "with open('model02.pkl', 'rb') as fid:\n",
    "    housemodel2 = pickle.load(fid)\n",
    "    print(type(housemodel2))\n",
    "    print(housemodel2.predict([[400,500]]))"
   ]
  },
  {
   "cell_type": "markdown",
   "metadata": {},
   "source": [
    "# MODEL3 - MULTIVARIABLE"
   ]
  },
  {
   "cell_type": "code",
   "execution_count": 58,
   "metadata": {},
   "outputs": [
    {
     "name": "stdout",
     "output_type": "stream",
     "text": [
      "(9008, 3) (9008, 1)\n"
     ]
    }
   ],
   "source": [
    "# Assign the data to X10 and y10\n",
    "\n",
    "X20 = new_clean04[[\"builded_squared_meters\", \"squared_meters\", \"id_city\"]]\n",
    "y20 = new_clean04[\"price\"].values.reshape(-1, 1)\n",
    "print(X20.shape, y20.shape)"
   ]
  },
  {
   "cell_type": "code",
   "execution_count": 59,
   "metadata": {},
   "outputs": [],
   "source": [
    "# Use train_test_split to create training and testing data\n",
    "\n",
    "# YOUR CODE HERE\n",
    "from sklearn.model_selection import train_test_split\n",
    "\n",
    "### BEGIN SOLUTION\n",
    "\n",
    "X_train20, X_test20, y_train20, y_test20 = train_test_split(X20, y20, random_state=42)\n",
    "\n",
    "### END SOLUTION"
   ]
  },
  {
   "cell_type": "code",
   "execution_count": 60,
   "metadata": {},
   "outputs": [],
   "source": [
    "# Create the model using LinearRegression\n",
    "\n",
    "### BEGIN SOLUTION\n",
    "from sklearn.linear_model import LinearRegression\n",
    "model3 = LinearRegression()\n",
    "### END SOLUTION"
   ]
  },
  {
   "cell_type": "code",
   "execution_count": 61,
   "metadata": {},
   "outputs": [
    {
     "data": {
      "text/plain": [
       "LinearRegression()"
      ]
     },
     "execution_count": 61,
     "metadata": {},
     "output_type": "execute_result"
    }
   ],
   "source": [
    "# Fit the model to the training data. \n",
    "\n",
    "### BEGIN SOLUTION\n",
    "\n",
    "model3.fit(X_train20, y_train20)\n",
    "\n",
    "### END SOLUTION"
   ]
  },
  {
   "cell_type": "code",
   "execution_count": 62,
   "metadata": {},
   "outputs": [
    {
     "name": "stdout",
     "output_type": "stream",
     "text": [
      "Training Score: 0.5749790417630505\n",
      "Testing Score: 0.5210323757175778\n"
     ]
    }
   ],
   "source": [
    "# Fit the model to the training data and calculate the scores for the training and testing data\n",
    "# Fitting our model with all of our features in X\n",
    "training_score20 = model3.score(X_train20, y_train20)\n",
    "testing_score20 = model3.score(X_test20, y_test20)\n",
    "\n",
    "print(f\"Training Score: {training_score20}\")\n",
    "print(f\"Testing Score: {testing_score20}\")"
   ]
  },
  {
   "cell_type": "code",
   "execution_count": 63,
   "metadata": {},
   "outputs": [
    {
     "data": {
      "text/plain": [
       "Text(0.5, 1.0, 'Residual Plot')"
      ]
     },
     "execution_count": 63,
     "metadata": {},
     "output_type": "execute_result"
    },
    {
     "data": {
      "image/png": "[encoded data removed]",
      "text/plain": [
       "<Figure size 432x288 with 1 Axes>"
      ]
     },
     "metadata": {
      "needs_background": "light"
     },
     "output_type": "display_data"
    }
   ],
   "source": [
    "# Plot the Residuals for the Training and Testing data\n",
    "\n",
    "### BEGIN SOLUTION\n",
    "plt.scatter(model3.predict(X_train20), model3.predict(X_train20) - y_train20, c=\"blue\", label=\"Training Data\")\n",
    "plt.scatter(model3.predict(X_test20), model3.predict(X_test20) - y_test20, c=\"orange\", label=\"Testing Data\")\n",
    "plt.legend()\n",
    "plt.hlines(y=0, xmin=y20.min(), xmax=y20.max())\n",
    "plt.title(\"Residual Plot\")\n",
    "### END SOLUTION"
   ]
  },
  {
   "cell_type": "code",
   "execution_count": 64,
   "metadata": {},
   "outputs": [
    {
     "name": "stdout",
     "output_type": "stream",
     "text": [
      "Mean Squared Error (MSE): 185696801320774.03\n",
      "R-squared (R2 ): 0.5210323757175778\n"
     ]
    }
   ],
   "source": [
    "# Calculate the mean_squared_error and the r-squared value\n",
    "# for the testing data\n",
    "\n",
    "from sklearn.metrics import mean_squared_error, r2_score\n",
    "\n",
    "### BEGIN SOLUTION\n",
    "\n",
    "# Use our model to make predictions\n",
    "predicted3 = model3.predict(X_test20)\n",
    "\n",
    "# Score the predictions with mse and r2\n",
    "mse_3 = mean_squared_error(y_test20, predicted3)\n",
    "r2_3 = r2_score(y_test20, predicted3)\n",
    "\n",
    "print(f\"Mean Squared Error (MSE): {mse_3}\")\n",
    "print(f\"R-squared (R2 ): {r2_3}\")\n",
    "\n",
    "### END SOLUTION"
   ]
  },
  {
   "cell_type": "code",
   "execution_count": 65,
   "metadata": {},
   "outputs": [
    {
     "data": {
      "text/plain": [
       "0.5210323757175778"
      ]
     },
     "execution_count": 65,
     "metadata": {},
     "output_type": "execute_result"
    }
   ],
   "source": [
    "# Call the `score` method on the model to show the r2 score\n",
    "\n",
    "### BEGIN SOLUTION\n",
    "model3.score(X_test20, y_test20)\n",
    "### END SOLUTION"
   ]
  },
  {
   "cell_type": "code",
   "execution_count": 66,
   "metadata": {},
   "outputs": [],
   "source": [
    "with open('model03.pkl', 'wb') as fid:\n",
    "    pickle.dump(model3, fid)"
   ]
  },
  {
   "cell_type": "code",
   "execution_count": 67,
   "metadata": {},
   "outputs": [
    {
     "name": "stdout",
     "output_type": "stream",
     "text": [
      "<class 'sklearn.linear_model._base.LinearRegression'>\n",
      "[[16950113.87259185]]\n"
     ]
    }
   ],
   "source": [
    "with open('model03.pkl', 'rb') as fid:\n",
    "    housemodel3 = pickle.load(fid)\n",
    "    print(type(housemodel3))\n",
    "    print(housemodel3.predict([[400,500,14]]))"
   ]
  },
  {
   "cell_type": "code",
   "execution_count": 68,
   "metadata": {},
   "outputs": [],
   "source": [
    "#End of notebook"
   ]
  }
 ],
 "metadata": {
  "celltoolbar": "Create Assignment",
  "kernelspec": {
   "display_name": "Python 3",
   "language": "python",
   "name": "python3"
  },
  "language_info": {
   "codemirror_mode": {
    "name": "ipython",
    "version": 3
   },
   "file_extension": ".py",
   "mimetype": "text/x-python",
   "name": "python",
   "nbconvert_exporter": "python",
   "pygments_lexer": "ipython3",
   "version": "3.8.3"
  },
  "varInspector": {
   "cols": {
    "lenName": 16,
    "lenType": 16,
    "lenVar": 40
   },
   "kernels_config": {
    "python": {
     "delete_cmd_postfix": "",
     "delete_cmd_prefix": "del ",
     "library": "var_list.py",
     "varRefreshCmd": "print(var_dic_list())"
    },
    "r": {
     "delete_cmd_postfix": ") ",
     "delete_cmd_prefix": "rm(",
     "library": "var_list.r",
     "varRefreshCmd": "cat(var_dic_list()) "
    }
   },
   "types_to_exclude": [
    "module",
    "function",
    "builtin_function_or_method",
    "instance",
    "_Feature"
   ],
   "window_display": false
  }
 },
 "nbformat": 4,
 "nbformat_minor": 2
}
