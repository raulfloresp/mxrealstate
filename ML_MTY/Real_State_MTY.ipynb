{
 "cells": [
  {
   "cell_type": "markdown",
   "metadata": {},
   "source": [
    "# IMPORT MODULES & LOAD DATA"
   ]
  },
  {
   "cell_type": "code",
   "execution_count": 1,
   "metadata": {},
   "outputs": [],
   "source": [
    "%matplotlib inline\n",
    "import matplotlib.pyplot as plt\n",
    "import numpy as np\n",
    "import pandas as pd\n",
    "import pickle"
   ]
  },
  {
   "cell_type": "markdown",
   "metadata": {},
   "source": [
    "## Dataset: Real State.csv\n",
    "\n",
    "Source: Metros Cubicos\n",
    "Date: September 22 2020\n",
    "\n",
    "Description: Measurements are related to M2 of Terrain, M2 of Construction, and Price of Property\n",
    "\n",
    "* Variables/Columns\n",
    "* PRICE: Price of Property\n",
    "* SQUARED_METERS: Squared Meters of Property Terrain\n",
    "* BUILD_SQUARED_METERS: Squared Meters of build property\n",
    "\n",
    "**Hypothesis**: Can we predict the price from Metros Cubicos CDMX Dataset using the measurements of Squared Meters?"
   ]
  },
  {
   "cell_type": "code",
   "execution_count": 6,
   "metadata": {},
   "outputs": [
    {
     "data": {
      "text/html": [
       "<div>\n",
       "<style scoped>\n",
       "    .dataframe tbody tr th:only-of-type {\n",
       "        vertical-align: middle;\n",
       "    }\n",
       "\n",
       "    .dataframe tbody tr th {\n",
       "        vertical-align: top;\n",
       "    }\n",
       "\n",
       "    .dataframe thead th {\n",
       "        text-align: right;\n",
       "    }\n",
       "</style>\n",
       "<table border=\"1\" class=\"dataframe\">\n",
       "  <thead>\n",
       "    <tr style=\"text-align: right;\">\n",
       "      <th></th>\n",
       "      <th>id_publicacion</th>\n",
       "      <th>id_city</th>\n",
       "      <th>house_lat</th>\n",
       "      <th>house_long</th>\n",
       "      <th>rooms</th>\n",
       "      <th>bathrooms</th>\n",
       "      <th>squared_meters</th>\n",
       "      <th>builded_squared_meters</th>\n",
       "      <th>house_details</th>\n",
       "      <th>address</th>\n",
       "      <th>price</th>\n",
       "    </tr>\n",
       "  </thead>\n",
       "  <tbody>\n",
       "    <tr>\n",
       "      <th>0</th>\n",
       "      <td>666625211</td>\n",
       "      <td>29</td>\n",
       "      <td>25.775692</td>\n",
       "      <td>-100.24225</td>\n",
       "      <td>3</td>\n",
       "      <td>3.0</td>\n",
       "      <td>124.0</td>\n",
       "      <td>210.0</td>\n",
       "      <td>La casa se encuentra en excelentes condiciones...</td>\n",
       "      <td>Residencial Los Pinos, San Nicolás De Los Garz...</td>\n",
       "      <td>2080000.0</td>\n",
       "    </tr>\n",
       "    <tr>\n",
       "      <th>1</th>\n",
       "      <td>666625212</td>\n",
       "      <td>28</td>\n",
       "      <td>25.778525</td>\n",
       "      <td>-100.31108</td>\n",
       "      <td>2</td>\n",
       "      <td>2.0</td>\n",
       "      <td>118.0</td>\n",
       "      <td>170.0</td>\n",
       "      <td>EXCELENTE OPORTUNIDAD PARA INVERTIR EN LA MEJO...</td>\n",
       "      <td>Residencial Pinos, General Escobedo, Nuevo León</td>\n",
       "      <td>1850000.0</td>\n",
       "    </tr>\n",
       "    <tr>\n",
       "      <th>2</th>\n",
       "      <td>666625214</td>\n",
       "      <td>30</td>\n",
       "      <td>25.801032</td>\n",
       "      <td>-100.58610</td>\n",
       "      <td>3</td>\n",
       "      <td>2.0</td>\n",
       "      <td>133.0</td>\n",
       "      <td>162.0</td>\n",
       "      <td>Hermosa casa con ubicación privilegiada frente...</td>\n",
       "      <td>García, Nuevo León</td>\n",
       "      <td>2200000.0</td>\n",
       "    </tr>\n",
       "    <tr>\n",
       "      <th>3</th>\n",
       "      <td>666625221</td>\n",
       "      <td>28</td>\n",
       "      <td>25.793114</td>\n",
       "      <td>-100.35040</td>\n",
       "      <td>3</td>\n",
       "      <td>2.0</td>\n",
       "      <td>105.0</td>\n",
       "      <td>152.0</td>\n",
       "      <td>Hermosa casa en Fraccionamiento Privado, muy c...</td>\n",
       "      <td>Pedregal De San Agustín, General Escobedo, Nue...</td>\n",
       "      <td>1350000.0</td>\n",
       "    </tr>\n",
       "    <tr>\n",
       "      <th>4</th>\n",
       "      <td>666625227</td>\n",
       "      <td>27</td>\n",
       "      <td>25.736270</td>\n",
       "      <td>-100.15660</td>\n",
       "      <td>3</td>\n",
       "      <td>2.0</td>\n",
       "      <td>175.0</td>\n",
       "      <td>95.0</td>\n",
       "      <td>Casa en venta con excelente ubicación, cerca d...</td>\n",
       "      <td>Villas De San Carlos Iis 3e, Apodaca, Nuevo León</td>\n",
       "      <td>950000.0</td>\n",
       "    </tr>\n",
       "  </tbody>\n",
       "</table>\n",
       "</div>"
      ],
      "text/plain": [
       "   id_publicacion  id_city  house_lat  house_long  rooms  bathrooms  \\\n",
       "0       666625211       29  25.775692  -100.24225      3        3.0   \n",
       "1       666625212       28  25.778525  -100.31108      2        2.0   \n",
       "2       666625214       30  25.801032  -100.58610      3        2.0   \n",
       "3       666625221       28  25.793114  -100.35040      3        2.0   \n",
       "4       666625227       27  25.736270  -100.15660      3        2.0   \n",
       "\n",
       "   squared_meters  builded_squared_meters  \\\n",
       "0           124.0                   210.0   \n",
       "1           118.0                   170.0   \n",
       "2           133.0                   162.0   \n",
       "3           105.0                   152.0   \n",
       "4           175.0                    95.0   \n",
       "\n",
       "                                       house_details  \\\n",
       "0  La casa se encuentra en excelentes condiciones...   \n",
       "1  EXCELENTE OPORTUNIDAD PARA INVERTIR EN LA MEJO...   \n",
       "2  Hermosa casa con ubicación privilegiada frente...   \n",
       "3  Hermosa casa en Fraccionamiento Privado, muy c...   \n",
       "4  Casa en venta con excelente ubicación, cerca d...   \n",
       "\n",
       "                                             address      price  \n",
       "0  Residencial Los Pinos, San Nicolás De Los Garz...  2080000.0  \n",
       "1    Residencial Pinos, General Escobedo, Nuevo León  1850000.0  \n",
       "2                                 García, Nuevo León  2200000.0  \n",
       "3  Pedregal De San Agustín, General Escobedo, Nue...  1350000.0  \n",
       "4   Villas De San Carlos Iis 3e, Apodaca, Nuevo León   950000.0  "
      ]
     },
     "execution_count": 6,
     "metadata": {},
     "output_type": "execute_result"
    }
   ],
   "source": [
    "# Read the csv file into a pandas DataFrame\n",
    "\n",
    "realestate = pd.read_csv('MTY20_Reat_State.csv')\n",
    "realestate.head()"
   ]
  },
  {
   "cell_type": "markdown",
   "metadata": {},
   "source": [
    "# EXPLORE AND CLEAN DATA FOR NULLS"
   ]
  },
  {
   "cell_type": "code",
   "execution_count": 7,
   "metadata": {},
   "outputs": [
    {
     "data": {
      "text/html": [
       "<div>\n",
       "<style scoped>\n",
       "    .dataframe tbody tr th:only-of-type {\n",
       "        vertical-align: middle;\n",
       "    }\n",
       "\n",
       "    .dataframe tbody tr th {\n",
       "        vertical-align: top;\n",
       "    }\n",
       "\n",
       "    .dataframe thead th {\n",
       "        text-align: right;\n",
       "    }\n",
       "</style>\n",
       "<table border=\"1\" class=\"dataframe\">\n",
       "  <thead>\n",
       "    <tr style=\"text-align: right;\">\n",
       "      <th></th>\n",
       "      <th>id_publicacion</th>\n",
       "      <th>id_city</th>\n",
       "      <th>house_lat</th>\n",
       "      <th>house_long</th>\n",
       "      <th>rooms</th>\n",
       "      <th>bathrooms</th>\n",
       "      <th>squared_meters</th>\n",
       "      <th>builded_squared_meters</th>\n",
       "      <th>price</th>\n",
       "    </tr>\n",
       "  </thead>\n",
       "  <tbody>\n",
       "    <tr>\n",
       "      <th>count</th>\n",
       "      <td>3.607000e+03</td>\n",
       "      <td>3607.000000</td>\n",
       "      <td>3607.000000</td>\n",
       "      <td>3607.000000</td>\n",
       "      <td>3607.000000</td>\n",
       "      <td>3607.000000</td>\n",
       "      <td>3607.000000</td>\n",
       "      <td>3607.000000</td>\n",
       "      <td>3.607000e+03</td>\n",
       "    </tr>\n",
       "    <tr>\n",
       "      <th>mean</th>\n",
       "      <td>7.934702e+08</td>\n",
       "      <td>28.481564</td>\n",
       "      <td>25.689684</td>\n",
       "      <td>-100.312720</td>\n",
       "      <td>3.245911</td>\n",
       "      <td>3.098420</td>\n",
       "      <td>307.859459</td>\n",
       "      <td>322.498447</td>\n",
       "      <td>7.682567e+06</td>\n",
       "    </tr>\n",
       "    <tr>\n",
       "      <th>std</th>\n",
       "      <td>3.058880e+07</td>\n",
       "      <td>3.532533</td>\n",
       "      <td>0.268456</td>\n",
       "      <td>0.334674</td>\n",
       "      <td>0.874688</td>\n",
       "      <td>1.450282</td>\n",
       "      <td>411.121863</td>\n",
       "      <td>248.770614</td>\n",
       "      <td>1.013937e+07</td>\n",
       "    </tr>\n",
       "    <tr>\n",
       "      <th>min</th>\n",
       "      <td>6.666252e+08</td>\n",
       "      <td>25.000000</td>\n",
       "      <td>19.064888</td>\n",
       "      <td>-118.521400</td>\n",
       "      <td>1.000000</td>\n",
       "      <td>1.000000</td>\n",
       "      <td>44.000000</td>\n",
       "      <td>32.000000</td>\n",
       "      <td>2.690000e+05</td>\n",
       "    </tr>\n",
       "    <tr>\n",
       "      <th>25%</th>\n",
       "      <td>7.817918e+08</td>\n",
       "      <td>25.000000</td>\n",
       "      <td>25.642955</td>\n",
       "      <td>-100.384100</td>\n",
       "      <td>3.000000</td>\n",
       "      <td>2.000000</td>\n",
       "      <td>126.000000</td>\n",
       "      <td>170.000000</td>\n",
       "      <td>2.100000e+06</td>\n",
       "    </tr>\n",
       "    <tr>\n",
       "      <th>50%</th>\n",
       "      <td>7.967890e+08</td>\n",
       "      <td>27.000000</td>\n",
       "      <td>25.686742</td>\n",
       "      <td>-100.287700</td>\n",
       "      <td>3.000000</td>\n",
       "      <td>3.000000</td>\n",
       "      <td>180.000000</td>\n",
       "      <td>260.000000</td>\n",
       "      <td>3.850000e+06</td>\n",
       "    </tr>\n",
       "    <tr>\n",
       "      <th>75%</th>\n",
       "      <td>8.167717e+08</td>\n",
       "      <td>30.000000</td>\n",
       "      <td>25.754103</td>\n",
       "      <td>-100.230500</td>\n",
       "      <td>3.000000</td>\n",
       "      <td>4.000000</td>\n",
       "      <td>344.500000</td>\n",
       "      <td>405.000000</td>\n",
       "      <td>9.000000e+06</td>\n",
       "    </tr>\n",
       "    <tr>\n",
       "      <th>max</th>\n",
       "      <td>8.231977e+08</td>\n",
       "      <td>36.000000</td>\n",
       "      <td>36.407213</td>\n",
       "      <td>-98.226420</td>\n",
       "      <td>15.000000</td>\n",
       "      <td>12.000000</td>\n",
       "      <td>7000.000000</td>\n",
       "      <td>4400.000000</td>\n",
       "      <td>1.800000e+08</td>\n",
       "    </tr>\n",
       "  </tbody>\n",
       "</table>\n",
       "</div>"
      ],
      "text/plain": [
       "       id_publicacion      id_city    house_lat   house_long        rooms  \\\n",
       "count    3.607000e+03  3607.000000  3607.000000  3607.000000  3607.000000   \n",
       "mean     7.934702e+08    28.481564    25.689684  -100.312720     3.245911   \n",
       "std      3.058880e+07     3.532533     0.268456     0.334674     0.874688   \n",
       "min      6.666252e+08    25.000000    19.064888  -118.521400     1.000000   \n",
       "25%      7.817918e+08    25.000000    25.642955  -100.384100     3.000000   \n",
       "50%      7.967890e+08    27.000000    25.686742  -100.287700     3.000000   \n",
       "75%      8.167717e+08    30.000000    25.754103  -100.230500     3.000000   \n",
       "max      8.231977e+08    36.000000    36.407213   -98.226420    15.000000   \n",
       "\n",
       "         bathrooms  squared_meters  builded_squared_meters         price  \n",
       "count  3607.000000     3607.000000             3607.000000  3.607000e+03  \n",
       "mean      3.098420      307.859459              322.498447  7.682567e+06  \n",
       "std       1.450282      411.121863              248.770614  1.013937e+07  \n",
       "min       1.000000       44.000000               32.000000  2.690000e+05  \n",
       "25%       2.000000      126.000000              170.000000  2.100000e+06  \n",
       "50%       3.000000      180.000000              260.000000  3.850000e+06  \n",
       "75%       4.000000      344.500000              405.000000  9.000000e+06  \n",
       "max      12.000000     7000.000000             4400.000000  1.800000e+08  "
      ]
     },
     "execution_count": 7,
     "metadata": {},
     "output_type": "execute_result"
    }
   ],
   "source": [
    "#Describe Data\n",
    "realestate.describe()"
   ]
  },
  {
   "cell_type": "code",
   "execution_count": 8,
   "metadata": {},
   "outputs": [
    {
     "data": {
      "text/plain": [
       "(3607, 11)"
      ]
     },
     "execution_count": 8,
     "metadata": {},
     "output_type": "execute_result"
    }
   ],
   "source": [
    "# Shape the dataframe\n",
    "realestate.shape"
   ]
  },
  {
   "cell_type": "code",
   "execution_count": 9,
   "metadata": {},
   "outputs": [
    {
     "data": {
      "text/plain": [
       "id_publicacion              int64\n",
       "id_city                     int64\n",
       "house_lat                 float64\n",
       "house_long                float64\n",
       "rooms                       int64\n",
       "bathrooms                 float64\n",
       "squared_meters            float64\n",
       "builded_squared_meters    float64\n",
       "house_details              object\n",
       "address                    object\n",
       "price                     float64\n",
       "dtype: object"
      ]
     },
     "execution_count": 9,
     "metadata": {},
     "output_type": "execute_result"
    }
   ],
   "source": [
    "#Describing Types\n",
    "realestate.dtypes"
   ]
  },
  {
   "cell_type": "code",
   "execution_count": 10,
   "metadata": {},
   "outputs": [
    {
     "data": {
      "text/plain": [
       "id_publicacion            3607\n",
       "id_city                   3607\n",
       "house_lat                 3607\n",
       "house_long                3607\n",
       "rooms                     3607\n",
       "bathrooms                 3607\n",
       "squared_meters            3607\n",
       "builded_squared_meters    3607\n",
       "house_details             3606\n",
       "address                   3607\n",
       "price                     3607\n",
       "dtype: int64"
      ]
     },
     "execution_count": 10,
     "metadata": {},
     "output_type": "execute_result"
    }
   ],
   "source": [
    "#Count to identify Nulls\n",
    "realestate.count()"
   ]
  },
  {
   "cell_type": "code",
   "execution_count": 11,
   "metadata": {},
   "outputs": [],
   "source": [
    "#Clean Dataframe\n",
    "realestate_no_null = realestate.dropna()"
   ]
  },
  {
   "cell_type": "code",
   "execution_count": 12,
   "metadata": {},
   "outputs": [
    {
     "data": {
      "text/plain": [
       "id_publicacion            3606\n",
       "id_city                   3606\n",
       "house_lat                 3606\n",
       "house_long                3606\n",
       "rooms                     3606\n",
       "bathrooms                 3606\n",
       "squared_meters            3606\n",
       "builded_squared_meters    3606\n",
       "house_details             3606\n",
       "address                   3606\n",
       "price                     3606\n",
       "dtype: int64"
      ]
     },
     "execution_count": 12,
     "metadata": {},
     "output_type": "execute_result"
    }
   ],
   "source": [
    "#Print Dataframe\n",
    "realestate_no_null.count()"
   ]
  },
  {
   "cell_type": "markdown",
   "metadata": {},
   "source": [
    "### PLOT LINEAR REGRESSION"
   ]
  },
  {
   "cell_type": "code",
   "execution_count": 13,
   "metadata": {},
   "outputs": [],
   "source": [
    "#Define variables\n",
    "x1 = realestate_no_null[\"builded_squared_meters\"]\n",
    "y1 = realestate_no_null[\"price\"]"
   ]
  },
  {
   "cell_type": "code",
   "execution_count": 14,
   "metadata": {},
   "outputs": [
    {
     "data": {
      "text/plain": [
       "<matplotlib.collections.PathCollection at 0x24ec2e7ffa0>"
      ]
     },
     "execution_count": 14,
     "metadata": {},
     "output_type": "execute_result"
    },
    {
     "data": {
      "image/png": "[encoded data removed]",
      "text/plain": [
       "<Figure size 432x288 with 1 Axes>"
      ]
     },
     "metadata": {
      "needs_background": "light"
     },
     "output_type": "display_data"
    }
   ],
   "source": [
    "plt.scatter(x1, y1)"
   ]
  },
  {
   "cell_type": "markdown",
   "metadata": {},
   "source": [
    "# EXTENSIVE DATA CLEANSING\n",
    "After seen the poor linear regresion on original data"
   ]
  },
  {
   "cell_type": "markdown",
   "metadata": {},
   "source": [
    "## Create an INDEX with build_squared_meters/price"
   ]
  },
  {
   "cell_type": "code",
   "execution_count": 15,
   "metadata": {},
   "outputs": [
    {
     "name": "stderr",
     "output_type": "stream",
     "text": [
      "<ipython-input-15-5821cfa17f77>:1: SettingWithCopyWarning: \n",
      "A value is trying to be set on a copy of a slice from a DataFrame.\n",
      "Try using .loc[row_indexer,col_indexer] = value instead\n",
      "\n",
      "See the caveats in the documentation: https://pandas.pydata.org/pandas-docs/stable/user_guide/indexing.html#returning-a-view-versus-a-copy\n",
      "  realestate_no_null['index'] = realestate_no_null.price / realestate_no_null.builded_squared_meters\n"
     ]
    }
   ],
   "source": [
    "realestate_no_null['index'] = realestate_no_null.price / realestate_no_null.builded_squared_meters"
   ]
  },
  {
   "cell_type": "code",
   "execution_count": 16,
   "metadata": {},
   "outputs": [
    {
     "data": {
      "text/plain": [
       "id_publicacion            3606\n",
       "id_city                   3606\n",
       "house_lat                 3606\n",
       "house_long                3606\n",
       "rooms                     3606\n",
       "bathrooms                 3606\n",
       "squared_meters            3606\n",
       "builded_squared_meters    3606\n",
       "house_details             3606\n",
       "address                   3606\n",
       "price                     3606\n",
       "index                     3606\n",
       "dtype: int64"
      ]
     },
     "execution_count": 16,
     "metadata": {},
     "output_type": "execute_result"
    }
   ],
   "source": [
    "realestate_no_null.count()"
   ]
  },
  {
   "cell_type": "code",
   "execution_count": 17,
   "metadata": {},
   "outputs": [
    {
     "data": {
      "text/plain": [
       "60"
      ]
     },
     "execution_count": 17,
     "metadata": {},
     "output_type": "execute_result"
    }
   ],
   "source": [
    "pd.options.display.max_rows"
   ]
  },
  {
   "cell_type": "code",
   "execution_count": 18,
   "metadata": {},
   "outputs": [
    {
     "data": {
      "text/html": [
       "<div>\n",
       "<style scoped>\n",
       "    .dataframe tbody tr th:only-of-type {\n",
       "        vertical-align: middle;\n",
       "    }\n",
       "\n",
       "    .dataframe tbody tr th {\n",
       "        vertical-align: top;\n",
       "    }\n",
       "\n",
       "    .dataframe thead th {\n",
       "        text-align: right;\n",
       "    }\n",
       "</style>\n",
       "<table border=\"1\" class=\"dataframe\">\n",
       "  <thead>\n",
       "    <tr style=\"text-align: right;\">\n",
       "      <th></th>\n",
       "      <th>id_publicacion</th>\n",
       "      <th>id_city</th>\n",
       "      <th>house_lat</th>\n",
       "      <th>house_long</th>\n",
       "      <th>rooms</th>\n",
       "      <th>bathrooms</th>\n",
       "      <th>squared_meters</th>\n",
       "      <th>builded_squared_meters</th>\n",
       "      <th>house_details</th>\n",
       "      <th>address</th>\n",
       "      <th>price</th>\n",
       "      <th>index</th>\n",
       "    </tr>\n",
       "  </thead>\n",
       "  <tbody>\n",
       "    <tr>\n",
       "      <th>0</th>\n",
       "      <td>666625211</td>\n",
       "      <td>29</td>\n",
       "      <td>25.775692</td>\n",
       "      <td>-100.24225</td>\n",
       "      <td>3</td>\n",
       "      <td>3.0</td>\n",
       "      <td>124.0</td>\n",
       "      <td>210.0</td>\n",
       "      <td>La casa se encuentra en excelentes condiciones...</td>\n",
       "      <td>Residencial Los Pinos, San Nicolás De Los Garz...</td>\n",
       "      <td>2080000.0</td>\n",
       "      <td>9904.761905</td>\n",
       "    </tr>\n",
       "    <tr>\n",
       "      <th>1</th>\n",
       "      <td>666625212</td>\n",
       "      <td>28</td>\n",
       "      <td>25.778525</td>\n",
       "      <td>-100.31108</td>\n",
       "      <td>2</td>\n",
       "      <td>2.0</td>\n",
       "      <td>118.0</td>\n",
       "      <td>170.0</td>\n",
       "      <td>EXCELENTE OPORTUNIDAD PARA INVERTIR EN LA MEJO...</td>\n",
       "      <td>Residencial Pinos, General Escobedo, Nuevo León</td>\n",
       "      <td>1850000.0</td>\n",
       "      <td>10882.352941</td>\n",
       "    </tr>\n",
       "    <tr>\n",
       "      <th>2</th>\n",
       "      <td>666625214</td>\n",
       "      <td>30</td>\n",
       "      <td>25.801032</td>\n",
       "      <td>-100.58610</td>\n",
       "      <td>3</td>\n",
       "      <td>2.0</td>\n",
       "      <td>133.0</td>\n",
       "      <td>162.0</td>\n",
       "      <td>Hermosa casa con ubicación privilegiada frente...</td>\n",
       "      <td>García, Nuevo León</td>\n",
       "      <td>2200000.0</td>\n",
       "      <td>13580.246914</td>\n",
       "    </tr>\n",
       "    <tr>\n",
       "      <th>3</th>\n",
       "      <td>666625221</td>\n",
       "      <td>28</td>\n",
       "      <td>25.793114</td>\n",
       "      <td>-100.35040</td>\n",
       "      <td>3</td>\n",
       "      <td>2.0</td>\n",
       "      <td>105.0</td>\n",
       "      <td>152.0</td>\n",
       "      <td>Hermosa casa en Fraccionamiento Privado, muy c...</td>\n",
       "      <td>Pedregal De San Agustín, General Escobedo, Nue...</td>\n",
       "      <td>1350000.0</td>\n",
       "      <td>8881.578947</td>\n",
       "    </tr>\n",
       "    <tr>\n",
       "      <th>4</th>\n",
       "      <td>666625227</td>\n",
       "      <td>27</td>\n",
       "      <td>25.736270</td>\n",
       "      <td>-100.15660</td>\n",
       "      <td>3</td>\n",
       "      <td>2.0</td>\n",
       "      <td>175.0</td>\n",
       "      <td>95.0</td>\n",
       "      <td>Casa en venta con excelente ubicación, cerca d...</td>\n",
       "      <td>Villas De San Carlos Iis 3e, Apodaca, Nuevo León</td>\n",
       "      <td>950000.0</td>\n",
       "      <td>10000.000000</td>\n",
       "    </tr>\n",
       "  </tbody>\n",
       "</table>\n",
       "</div>"
      ],
      "text/plain": [
       "   id_publicacion  id_city  house_lat  house_long  rooms  bathrooms  \\\n",
       "0       666625211       29  25.775692  -100.24225      3        3.0   \n",
       "1       666625212       28  25.778525  -100.31108      2        2.0   \n",
       "2       666625214       30  25.801032  -100.58610      3        2.0   \n",
       "3       666625221       28  25.793114  -100.35040      3        2.0   \n",
       "4       666625227       27  25.736270  -100.15660      3        2.0   \n",
       "\n",
       "   squared_meters  builded_squared_meters  \\\n",
       "0           124.0                   210.0   \n",
       "1           118.0                   170.0   \n",
       "2           133.0                   162.0   \n",
       "3           105.0                   152.0   \n",
       "4           175.0                    95.0   \n",
       "\n",
       "                                       house_details  \\\n",
       "0  La casa se encuentra en excelentes condiciones...   \n",
       "1  EXCELENTE OPORTUNIDAD PARA INVERTIR EN LA MEJO...   \n",
       "2  Hermosa casa con ubicación privilegiada frente...   \n",
       "3  Hermosa casa en Fraccionamiento Privado, muy c...   \n",
       "4  Casa en venta con excelente ubicación, cerca d...   \n",
       "\n",
       "                                             address      price         index  \n",
       "0  Residencial Los Pinos, San Nicolás De Los Garz...  2080000.0   9904.761905  \n",
       "1    Residencial Pinos, General Escobedo, Nuevo León  1850000.0  10882.352941  \n",
       "2                                 García, Nuevo León  2200000.0  13580.246914  \n",
       "3  Pedregal De San Agustín, General Escobedo, Nue...  1350000.0   8881.578947  \n",
       "4   Villas De San Carlos Iis 3e, Apodaca, Nuevo León   950000.0  10000.000000  "
      ]
     },
     "execution_count": 18,
     "metadata": {},
     "output_type": "execute_result"
    }
   ],
   "source": [
    "realestate_no_null.head()"
   ]
  },
  {
   "cell_type": "markdown",
   "metadata": {},
   "source": [
    "## Optimizing Data"
   ]
  },
  {
   "cell_type": "code",
   "execution_count": 19,
   "metadata": {},
   "outputs": [
    {
     "data": {
      "text/plain": [
       "0       True\n",
       "1       True\n",
       "2       True\n",
       "3       True\n",
       "4       True\n",
       "        ... \n",
       "3602    True\n",
       "3603    True\n",
       "3604    True\n",
       "3605    True\n",
       "3606    True\n",
       "Name: builded_squared_meters, Length: 3606, dtype: bool"
      ]
     },
     "execution_count": 19,
     "metadata": {},
     "output_type": "execute_result"
    }
   ],
   "source": [
    "#Data Cleansing with values < 50 squared meters\n",
    "is_m2 =  realestate_no_null['builded_squared_meters']>=50\n",
    "is_m2"
   ]
  },
  {
   "cell_type": "code",
   "execution_count": 20,
   "metadata": {},
   "outputs": [
    {
     "data": {
      "text/plain": [
       "(3580, 12)"
      ]
     },
     "execution_count": 20,
     "metadata": {},
     "output_type": "execute_result"
    }
   ],
   "source": [
    "realestate_clean = realestate_no_null[is_m2]\n",
    "realestate_clean.shape"
   ]
  },
  {
   "cell_type": "code",
   "execution_count": 21,
   "metadata": {},
   "outputs": [
    {
     "data": {
      "text/plain": [
       "0       True\n",
       "1       True\n",
       "2       True\n",
       "3       True\n",
       "4       True\n",
       "        ... \n",
       "3602    True\n",
       "3603    True\n",
       "3604    True\n",
       "3605    True\n",
       "3606    True\n",
       "Name: price, Length: 3606, dtype: bool"
      ]
     },
     "execution_count": 21,
     "metadata": {},
     "output_type": "execute_result"
    }
   ],
   "source": [
    "#Data Cleansing with values above $300,000,000 MXN\n",
    "is_price =  realestate_no_null['price']<=300000000\n",
    "is_price"
   ]
  },
  {
   "cell_type": "code",
   "execution_count": 22,
   "metadata": {},
   "outputs": [
    {
     "name": "stderr",
     "output_type": "stream",
     "text": [
      "<ipython-input-22-42ec8eaff75f>:1: UserWarning: Boolean Series key will be reindexed to match DataFrame index.\n",
      "  realestate_clean01 = realestate_clean[is_price]\n"
     ]
    },
    {
     "data": {
      "text/plain": [
       "(3580, 12)"
      ]
     },
     "execution_count": 22,
     "metadata": {},
     "output_type": "execute_result"
    }
   ],
   "source": [
    "realestate_clean01 = realestate_clean[is_price]\n",
    "realestate_clean01.shape"
   ]
  },
  {
   "cell_type": "markdown",
   "metadata": {},
   "source": [
    "## CLEAN DATA BASE ON INDEX"
   ]
  },
  {
   "cell_type": "code",
   "execution_count": 23,
   "metadata": {},
   "outputs": [
    {
     "data": {
      "text/html": [
       "<div>\n",
       "<style scoped>\n",
       "    .dataframe tbody tr th:only-of-type {\n",
       "        vertical-align: middle;\n",
       "    }\n",
       "\n",
       "    .dataframe tbody tr th {\n",
       "        vertical-align: top;\n",
       "    }\n",
       "\n",
       "    .dataframe thead th {\n",
       "        text-align: right;\n",
       "    }\n",
       "</style>\n",
       "<table border=\"1\" class=\"dataframe\">\n",
       "  <thead>\n",
       "    <tr style=\"text-align: right;\">\n",
       "      <th></th>\n",
       "      <th>id_publicacion</th>\n",
       "      <th>id_city</th>\n",
       "      <th>house_lat</th>\n",
       "      <th>house_long</th>\n",
       "      <th>rooms</th>\n",
       "      <th>bathrooms</th>\n",
       "      <th>squared_meters</th>\n",
       "      <th>builded_squared_meters</th>\n",
       "      <th>price</th>\n",
       "      <th>index</th>\n",
       "    </tr>\n",
       "  </thead>\n",
       "  <tbody>\n",
       "    <tr>\n",
       "      <th>count</th>\n",
       "      <td>3.580000e+03</td>\n",
       "      <td>3580.000000</td>\n",
       "      <td>3580.000000</td>\n",
       "      <td>3580.000000</td>\n",
       "      <td>3580.000000</td>\n",
       "      <td>3580.000000</td>\n",
       "      <td>3580.000000</td>\n",
       "      <td>3580.000000</td>\n",
       "      <td>3.580000e+03</td>\n",
       "      <td>3580.000000</td>\n",
       "    </tr>\n",
       "    <tr>\n",
       "      <th>mean</th>\n",
       "      <td>7.935120e+08</td>\n",
       "      <td>28.472346</td>\n",
       "      <td>25.691091</td>\n",
       "      <td>-100.312966</td>\n",
       "      <td>3.257821</td>\n",
       "      <td>3.113966</td>\n",
       "      <td>309.438567</td>\n",
       "      <td>324.596620</td>\n",
       "      <td>7.736760e+06</td>\n",
       "      <td>19802.552031</td>\n",
       "    </tr>\n",
       "    <tr>\n",
       "      <th>std</th>\n",
       "      <td>3.052579e+07</td>\n",
       "      <td>3.539908</td>\n",
       "      <td>0.245514</td>\n",
       "      <td>0.333702</td>\n",
       "      <td>0.865829</td>\n",
       "      <td>1.444513</td>\n",
       "      <td>412.257575</td>\n",
       "      <td>248.524544</td>\n",
       "      <td>1.015821e+07</td>\n",
       "      <td>12723.292808</td>\n",
       "    </tr>\n",
       "    <tr>\n",
       "      <th>min</th>\n",
       "      <td>6.666252e+08</td>\n",
       "      <td>25.000000</td>\n",
       "      <td>25.353708</td>\n",
       "      <td>-118.521400</td>\n",
       "      <td>1.000000</td>\n",
       "      <td>1.000000</td>\n",
       "      <td>44.000000</td>\n",
       "      <td>50.000000</td>\n",
       "      <td>2.800000e+05</td>\n",
       "      <td>462.670873</td>\n",
       "    </tr>\n",
       "    <tr>\n",
       "      <th>25%</th>\n",
       "      <td>7.817918e+08</td>\n",
       "      <td>25.000000</td>\n",
       "      <td>25.642927</td>\n",
       "      <td>-100.383225</td>\n",
       "      <td>3.000000</td>\n",
       "      <td>2.000000</td>\n",
       "      <td>126.000000</td>\n",
       "      <td>173.000000</td>\n",
       "      <td>2.150000e+06</td>\n",
       "      <td>11771.821632</td>\n",
       "    </tr>\n",
       "    <tr>\n",
       "      <th>50%</th>\n",
       "      <td>7.968447e+08</td>\n",
       "      <td>27.000000</td>\n",
       "      <td>25.686614</td>\n",
       "      <td>-100.286800</td>\n",
       "      <td>3.000000</td>\n",
       "      <td>3.000000</td>\n",
       "      <td>183.000000</td>\n",
       "      <td>261.000000</td>\n",
       "      <td>3.900000e+06</td>\n",
       "      <td>16071.428571</td>\n",
       "    </tr>\n",
       "    <tr>\n",
       "      <th>75%</th>\n",
       "      <td>8.169410e+08</td>\n",
       "      <td>30.000000</td>\n",
       "      <td>25.753080</td>\n",
       "      <td>-100.230500</td>\n",
       "      <td>3.000000</td>\n",
       "      <td>4.000000</td>\n",
       "      <td>347.000000</td>\n",
       "      <td>408.000000</td>\n",
       "      <td>9.212500e+06</td>\n",
       "      <td>23767.733211</td>\n",
       "    </tr>\n",
       "    <tr>\n",
       "      <th>max</th>\n",
       "      <td>8.231977e+08</td>\n",
       "      <td>36.000000</td>\n",
       "      <td>36.407213</td>\n",
       "      <td>-99.978910</td>\n",
       "      <td>15.000000</td>\n",
       "      <td>12.000000</td>\n",
       "      <td>7000.000000</td>\n",
       "      <td>4400.000000</td>\n",
       "      <td>1.800000e+08</td>\n",
       "      <td>153846.153846</td>\n",
       "    </tr>\n",
       "  </tbody>\n",
       "</table>\n",
       "</div>"
      ],
      "text/plain": [
       "       id_publicacion      id_city    house_lat   house_long        rooms  \\\n",
       "count    3.580000e+03  3580.000000  3580.000000  3580.000000  3580.000000   \n",
       "mean     7.935120e+08    28.472346    25.691091  -100.312966     3.257821   \n",
       "std      3.052579e+07     3.539908     0.245514     0.333702     0.865829   \n",
       "min      6.666252e+08    25.000000    25.353708  -118.521400     1.000000   \n",
       "25%      7.817918e+08    25.000000    25.642927  -100.383225     3.000000   \n",
       "50%      7.968447e+08    27.000000    25.686614  -100.286800     3.000000   \n",
       "75%      8.169410e+08    30.000000    25.753080  -100.230500     3.000000   \n",
       "max      8.231977e+08    36.000000    36.407213   -99.978910    15.000000   \n",
       "\n",
       "         bathrooms  squared_meters  builded_squared_meters         price  \\\n",
       "count  3580.000000     3580.000000             3580.000000  3.580000e+03   \n",
       "mean      3.113966      309.438567              324.596620  7.736760e+06   \n",
       "std       1.444513      412.257575              248.524544  1.015821e+07   \n",
       "min       1.000000       44.000000               50.000000  2.800000e+05   \n",
       "25%       2.000000      126.000000              173.000000  2.150000e+06   \n",
       "50%       3.000000      183.000000              261.000000  3.900000e+06   \n",
       "75%       4.000000      347.000000              408.000000  9.212500e+06   \n",
       "max      12.000000     7000.000000             4400.000000  1.800000e+08   \n",
       "\n",
       "               index  \n",
       "count    3580.000000  \n",
       "mean    19802.552031  \n",
       "std     12723.292808  \n",
       "min       462.670873  \n",
       "25%     11771.821632  \n",
       "50%     16071.428571  \n",
       "75%     23767.733211  \n",
       "max    153846.153846  "
      ]
     },
     "execution_count": 23,
     "metadata": {},
     "output_type": "execute_result"
    }
   ],
   "source": [
    "realestate_clean01.describe()"
   ]
  },
  {
   "cell_type": "code",
   "execution_count": 24,
   "metadata": {},
   "outputs": [
    {
     "data": {
      "text/plain": [
       "count      3580.000000\n",
       "mean      19802.552031\n",
       "std       12723.292808\n",
       "min         462.670873\n",
       "25%       11771.821632\n",
       "50%       16071.428571\n",
       "75%       23767.733211\n",
       "max      153846.153846\n",
       "Name: index, dtype: float64"
      ]
     },
     "execution_count": 24,
     "metadata": {},
     "output_type": "execute_result"
    }
   ],
   "source": [
    "realestate_clean01['index'].describe()"
   ]
  },
  {
   "cell_type": "code",
   "execution_count": 25,
   "metadata": {},
   "outputs": [
    {
     "data": {
      "text/plain": [
       "0       True\n",
       "1       True\n",
       "2       True\n",
       "3       True\n",
       "4       True\n",
       "        ... \n",
       "3602    True\n",
       "3603    True\n",
       "3604    True\n",
       "3605    True\n",
       "3606    True\n",
       "Name: index, Length: 3580, dtype: bool"
      ]
     },
     "execution_count": 25,
     "metadata": {},
     "output_type": "execute_result"
    }
   ],
   "source": [
    "#Data Cleansing with Index > number\n",
    "is_index_high =  realestate_clean01['index']<=100000\n",
    "is_index_high"
   ]
  },
  {
   "cell_type": "code",
   "execution_count": 26,
   "metadata": {},
   "outputs": [
    {
     "data": {
      "text/plain": [
       "(3574, 12)"
      ]
     },
     "execution_count": 26,
     "metadata": {},
     "output_type": "execute_result"
    }
   ],
   "source": [
    "realestate_clean02 = realestate_clean01[is_index_high]\n",
    "realestate_clean02.shape"
   ]
  },
  {
   "cell_type": "code",
   "execution_count": 27,
   "metadata": {},
   "outputs": [
    {
     "data": {
      "text/plain": [
       "0       True\n",
       "1       True\n",
       "2       True\n",
       "3       True\n",
       "4       True\n",
       "        ... \n",
       "3602    True\n",
       "3603    True\n",
       "3604    True\n",
       "3605    True\n",
       "3606    True\n",
       "Name: index, Length: 3574, dtype: bool"
      ]
     },
     "execution_count": 27,
     "metadata": {},
     "output_type": "execute_result"
    }
   ],
   "source": [
    "#Data Cleansing with Index < number\n",
    "is_index_low =  realestate_clean02['index']>=1000\n",
    "is_index_low"
   ]
  },
  {
   "cell_type": "code",
   "execution_count": 28,
   "metadata": {},
   "outputs": [
    {
     "data": {
      "text/plain": [
       "(3572, 12)"
      ]
     },
     "execution_count": 28,
     "metadata": {},
     "output_type": "execute_result"
    }
   ],
   "source": [
    "realestate_clean02b = realestate_clean02[is_index_low]\n",
    "realestate_clean02b.shape"
   ]
  },
  {
   "cell_type": "markdown",
   "metadata": {},
   "source": [
    "## REMOVE PROPERTIES CATALOGUED AS \"REMATE BANCARIO\""
   ]
  },
  {
   "cell_type": "code",
   "execution_count": 29,
   "metadata": {},
   "outputs": [],
   "source": [
    "realestate_clean03 = realestate_clean02[realestate_clean02['house_details'].str.contains(\"remate bancario\", \n",
    "                                                                                         \"REMATES BANCARIOS\")]"
   ]
  },
  {
   "cell_type": "code",
   "execution_count": 30,
   "metadata": {},
   "outputs": [],
   "source": [
    "realestate_clean04 = realestate_clean02[realestate_clean02['house_details'].str.contains(\"remates bancarios\", \n",
    "                                                                                         \"REMATE BANCARIO\")]"
   ]
  },
  {
   "cell_type": "code",
   "execution_count": 31,
   "metadata": {},
   "outputs": [
    {
     "data": {
      "text/plain": [
       "0"
      ]
     },
     "execution_count": 31,
     "metadata": {},
     "output_type": "execute_result"
    }
   ],
   "source": [
    "list_clean01 = realestate_clean03['id_publicacion'].to_list()\n",
    "len(list_clean01)"
   ]
  },
  {
   "cell_type": "code",
   "execution_count": 32,
   "metadata": {},
   "outputs": [
    {
     "data": {
      "text/plain": [
       "0"
      ]
     },
     "execution_count": 32,
     "metadata": {},
     "output_type": "execute_result"
    }
   ],
   "source": [
    "list_clean02 = realestate_clean04['id_publicacion'].to_list()\n",
    "len(list_clean02)"
   ]
  },
  {
   "cell_type": "code",
   "execution_count": 33,
   "metadata": {},
   "outputs": [
    {
     "data": {
      "text/html": [
       "<div>\n",
       "<style scoped>\n",
       "    .dataframe tbody tr th:only-of-type {\n",
       "        vertical-align: middle;\n",
       "    }\n",
       "\n",
       "    .dataframe tbody tr th {\n",
       "        vertical-align: top;\n",
       "    }\n",
       "\n",
       "    .dataframe thead th {\n",
       "        text-align: right;\n",
       "    }\n",
       "</style>\n",
       "<table border=\"1\" class=\"dataframe\">\n",
       "  <thead>\n",
       "    <tr style=\"text-align: right;\">\n",
       "      <th></th>\n",
       "      <th>id_publicacion</th>\n",
       "      <th>id_city</th>\n",
       "      <th>house_lat</th>\n",
       "      <th>house_long</th>\n",
       "      <th>rooms</th>\n",
       "      <th>bathrooms</th>\n",
       "      <th>squared_meters</th>\n",
       "      <th>builded_squared_meters</th>\n",
       "      <th>house_details</th>\n",
       "      <th>address</th>\n",
       "      <th>price</th>\n",
       "      <th>index</th>\n",
       "    </tr>\n",
       "  </thead>\n",
       "  <tbody>\n",
       "    <tr>\n",
       "      <th>0</th>\n",
       "      <td>666625211</td>\n",
       "      <td>29</td>\n",
       "      <td>25.775692</td>\n",
       "      <td>-100.24225</td>\n",
       "      <td>3</td>\n",
       "      <td>3.0</td>\n",
       "      <td>124.0</td>\n",
       "      <td>210.0</td>\n",
       "      <td>La casa se encuentra en excelentes condiciones...</td>\n",
       "      <td>Residencial Los Pinos, San Nicolás De Los Garz...</td>\n",
       "      <td>2080000.0</td>\n",
       "      <td>9904.761905</td>\n",
       "    </tr>\n",
       "    <tr>\n",
       "      <th>1</th>\n",
       "      <td>666625212</td>\n",
       "      <td>28</td>\n",
       "      <td>25.778525</td>\n",
       "      <td>-100.31108</td>\n",
       "      <td>2</td>\n",
       "      <td>2.0</td>\n",
       "      <td>118.0</td>\n",
       "      <td>170.0</td>\n",
       "      <td>EXCELENTE OPORTUNIDAD PARA INVERTIR EN LA MEJO...</td>\n",
       "      <td>Residencial Pinos, General Escobedo, Nuevo León</td>\n",
       "      <td>1850000.0</td>\n",
       "      <td>10882.352941</td>\n",
       "    </tr>\n",
       "    <tr>\n",
       "      <th>2</th>\n",
       "      <td>666625214</td>\n",
       "      <td>30</td>\n",
       "      <td>25.801032</td>\n",
       "      <td>-100.58610</td>\n",
       "      <td>3</td>\n",
       "      <td>2.0</td>\n",
       "      <td>133.0</td>\n",
       "      <td>162.0</td>\n",
       "      <td>Hermosa casa con ubicación privilegiada frente...</td>\n",
       "      <td>García, Nuevo León</td>\n",
       "      <td>2200000.0</td>\n",
       "      <td>13580.246914</td>\n",
       "    </tr>\n",
       "    <tr>\n",
       "      <th>3</th>\n",
       "      <td>666625221</td>\n",
       "      <td>28</td>\n",
       "      <td>25.793114</td>\n",
       "      <td>-100.35040</td>\n",
       "      <td>3</td>\n",
       "      <td>2.0</td>\n",
       "      <td>105.0</td>\n",
       "      <td>152.0</td>\n",
       "      <td>Hermosa casa en Fraccionamiento Privado, muy c...</td>\n",
       "      <td>Pedregal De San Agustín, General Escobedo, Nue...</td>\n",
       "      <td>1350000.0</td>\n",
       "      <td>8881.578947</td>\n",
       "    </tr>\n",
       "    <tr>\n",
       "      <th>4</th>\n",
       "      <td>666625227</td>\n",
       "      <td>27</td>\n",
       "      <td>25.736270</td>\n",
       "      <td>-100.15660</td>\n",
       "      <td>3</td>\n",
       "      <td>2.0</td>\n",
       "      <td>175.0</td>\n",
       "      <td>95.0</td>\n",
       "      <td>Casa en venta con excelente ubicación, cerca d...</td>\n",
       "      <td>Villas De San Carlos Iis 3e, Apodaca, Nuevo León</td>\n",
       "      <td>950000.0</td>\n",
       "      <td>10000.000000</td>\n",
       "    </tr>\n",
       "    <tr>\n",
       "      <th>...</th>\n",
       "      <td>...</td>\n",
       "      <td>...</td>\n",
       "      <td>...</td>\n",
       "      <td>...</td>\n",
       "      <td>...</td>\n",
       "      <td>...</td>\n",
       "      <td>...</td>\n",
       "      <td>...</td>\n",
       "      <td>...</td>\n",
       "      <td>...</td>\n",
       "      <td>...</td>\n",
       "      <td>...</td>\n",
       "    </tr>\n",
       "    <tr>\n",
       "      <th>3602</th>\n",
       "      <td>823115203</td>\n",
       "      <td>34</td>\n",
       "      <td>25.656484</td>\n",
       "      <td>-100.36940</td>\n",
       "      <td>4</td>\n",
       "      <td>6.0</td>\n",
       "      <td>400.0</td>\n",
       "      <td>528.0</td>\n",
       "      <td>Casa Los Ríos - ID: DV9935Residencia para estr...</td>\n",
       "      <td>Del Valle, San Pedro Garza García, Nuevo León</td>\n",
       "      <td>34000000.0</td>\n",
       "      <td>64393.939394</td>\n",
       "    </tr>\n",
       "    <tr>\n",
       "      <th>3603</th>\n",
       "      <td>823115252</td>\n",
       "      <td>25</td>\n",
       "      <td>25.577001</td>\n",
       "      <td>-100.23620</td>\n",
       "      <td>3</td>\n",
       "      <td>3.0</td>\n",
       "      <td>231.0</td>\n",
       "      <td>300.0</td>\n",
       "      <td>Casa de 2 pisos Planta baja: cochera para 3 ca...</td>\n",
       "      <td>Vistancia, Monterrey, Nuevo León</td>\n",
       "      <td>5800000.0</td>\n",
       "      <td>19333.333333</td>\n",
       "    </tr>\n",
       "    <tr>\n",
       "      <th>3604</th>\n",
       "      <td>823115262</td>\n",
       "      <td>25</td>\n",
       "      <td>25.748839</td>\n",
       "      <td>-100.38170</td>\n",
       "      <td>3</td>\n",
       "      <td>4.0</td>\n",
       "      <td>300.0</td>\n",
       "      <td>471.0</td>\n",
       "      <td>Ubicada en la parte alta de paseo de los leone...</td>\n",
       "      <td>Las Cumbres, Monterrey, Nuevo León</td>\n",
       "      <td>6900000.0</td>\n",
       "      <td>14649.681529</td>\n",
       "    </tr>\n",
       "    <tr>\n",
       "      <th>3605</th>\n",
       "      <td>823160348</td>\n",
       "      <td>26</td>\n",
       "      <td>25.690444</td>\n",
       "      <td>-100.21020</td>\n",
       "      <td>2</td>\n",
       "      <td>1.0</td>\n",
       "      <td>122.0</td>\n",
       "      <td>98.0</td>\n",
       "      <td>CASA EN VENTA EN GUADALUPE N.L. \\n \\nCasa en v...</td>\n",
       "      <td>Casa En Venta En Guadalupe N.l. Colonia Las Qu...</td>\n",
       "      <td>950000.0</td>\n",
       "      <td>9693.877551</td>\n",
       "    </tr>\n",
       "    <tr>\n",
       "      <th>3606</th>\n",
       "      <td>823197676</td>\n",
       "      <td>25</td>\n",
       "      <td>25.666567</td>\n",
       "      <td>-100.28650</td>\n",
       "      <td>8</td>\n",
       "      <td>7.0</td>\n",
       "      <td>226.0</td>\n",
       "      <td>357.0</td>\n",
       "      <td>ATENCIóN INVERSIONISTAS!! \\n \\nMC Soluciones I...</td>\n",
       "      <td>Oportunidad De Inversión Casa Con 8 Departamen...</td>\n",
       "      <td>2000000.0</td>\n",
       "      <td>5602.240896</td>\n",
       "    </tr>\n",
       "  </tbody>\n",
       "</table>\n",
       "<p>3574 rows × 12 columns</p>\n",
       "</div>"
      ],
      "text/plain": [
       "      id_publicacion  id_city  house_lat  house_long  rooms  bathrooms  \\\n",
       "0          666625211       29  25.775692  -100.24225      3        3.0   \n",
       "1          666625212       28  25.778525  -100.31108      2        2.0   \n",
       "2          666625214       30  25.801032  -100.58610      3        2.0   \n",
       "3          666625221       28  25.793114  -100.35040      3        2.0   \n",
       "4          666625227       27  25.736270  -100.15660      3        2.0   \n",
       "...              ...      ...        ...         ...    ...        ...   \n",
       "3602       823115203       34  25.656484  -100.36940      4        6.0   \n",
       "3603       823115252       25  25.577001  -100.23620      3        3.0   \n",
       "3604       823115262       25  25.748839  -100.38170      3        4.0   \n",
       "3605       823160348       26  25.690444  -100.21020      2        1.0   \n",
       "3606       823197676       25  25.666567  -100.28650      8        7.0   \n",
       "\n",
       "      squared_meters  builded_squared_meters  \\\n",
       "0              124.0                   210.0   \n",
       "1              118.0                   170.0   \n",
       "2              133.0                   162.0   \n",
       "3              105.0                   152.0   \n",
       "4              175.0                    95.0   \n",
       "...              ...                     ...   \n",
       "3602           400.0                   528.0   \n",
       "3603           231.0                   300.0   \n",
       "3604           300.0                   471.0   \n",
       "3605           122.0                    98.0   \n",
       "3606           226.0                   357.0   \n",
       "\n",
       "                                          house_details  \\\n",
       "0     La casa se encuentra en excelentes condiciones...   \n",
       "1     EXCELENTE OPORTUNIDAD PARA INVERTIR EN LA MEJO...   \n",
       "2     Hermosa casa con ubicación privilegiada frente...   \n",
       "3     Hermosa casa en Fraccionamiento Privado, muy c...   \n",
       "4     Casa en venta con excelente ubicación, cerca d...   \n",
       "...                                                 ...   \n",
       "3602  Casa Los Ríos - ID: DV9935Residencia para estr...   \n",
       "3603  Casa de 2 pisos Planta baja: cochera para 3 ca...   \n",
       "3604  Ubicada en la parte alta de paseo de los leone...   \n",
       "3605  CASA EN VENTA EN GUADALUPE N.L. \\n \\nCasa en v...   \n",
       "3606  ATENCIóN INVERSIONISTAS!! \\n \\nMC Soluciones I...   \n",
       "\n",
       "                                                address       price  \\\n",
       "0     Residencial Los Pinos, San Nicolás De Los Garz...   2080000.0   \n",
       "1       Residencial Pinos, General Escobedo, Nuevo León   1850000.0   \n",
       "2                                    García, Nuevo León   2200000.0   \n",
       "3     Pedregal De San Agustín, General Escobedo, Nue...   1350000.0   \n",
       "4      Villas De San Carlos Iis 3e, Apodaca, Nuevo León    950000.0   \n",
       "...                                                 ...         ...   \n",
       "3602      Del Valle, San Pedro Garza García, Nuevo León  34000000.0   \n",
       "3603                   Vistancia, Monterrey, Nuevo León   5800000.0   \n",
       "3604                 Las Cumbres, Monterrey, Nuevo León   6900000.0   \n",
       "3605  Casa En Venta En Guadalupe N.l. Colonia Las Qu...    950000.0   \n",
       "3606  Oportunidad De Inversión Casa Con 8 Departamen...   2000000.0   \n",
       "\n",
       "             index  \n",
       "0      9904.761905  \n",
       "1     10882.352941  \n",
       "2     13580.246914  \n",
       "3      8881.578947  \n",
       "4     10000.000000  \n",
       "...            ...  \n",
       "3602  64393.939394  \n",
       "3603  19333.333333  \n",
       "3604  14649.681529  \n",
       "3605   9693.877551  \n",
       "3606   5602.240896  \n",
       "\n",
       "[3574 rows x 12 columns]"
      ]
     },
     "execution_count": 33,
     "metadata": {},
     "output_type": "execute_result"
    }
   ],
   "source": [
    "new_clean01 = realestate_clean02[~realestate_clean02.id_publicacion.isin(list_clean01)]\n",
    "new_clean02 = new_clean01[~new_clean01.id_publicacion.isin(list_clean02)]\n",
    "new_clean02"
   ]
  },
  {
   "cell_type": "markdown",
   "metadata": {},
   "source": [
    "## REMOVE PROPERTIES CATALOGUED AS \"RENTA\""
   ]
  },
  {
   "cell_type": "code",
   "execution_count": 34,
   "metadata": {},
   "outputs": [],
   "source": [
    "realestate_clean05 = new_clean02[new_clean02['house_details'].str.contains(\"RENTA\", \"renta\")]"
   ]
  },
  {
   "cell_type": "code",
   "execution_count": 35,
   "metadata": {},
   "outputs": [
    {
     "data": {
      "text/plain": [
       "19"
      ]
     },
     "execution_count": 35,
     "metadata": {},
     "output_type": "execute_result"
    }
   ],
   "source": [
    "list_clean03 = realestate_clean05['id_publicacion'].to_list()\n",
    "len(list_clean03)"
   ]
  },
  {
   "cell_type": "code",
   "execution_count": 36,
   "metadata": {
    "scrolled": false
   },
   "outputs": [],
   "source": [
    "realestate_clean06 = new_clean02[new_clean02['house_details'].str.contains(\"Renta\")]"
   ]
  },
  {
   "cell_type": "code",
   "execution_count": 37,
   "metadata": {},
   "outputs": [
    {
     "data": {
      "text/plain": [
       "18"
      ]
     },
     "execution_count": 37,
     "metadata": {},
     "output_type": "execute_result"
    }
   ],
   "source": [
    "list_clean04 = realestate_clean06['id_publicacion'].to_list()\n",
    "len(list_clean04)"
   ]
  },
  {
   "cell_type": "code",
   "execution_count": 38,
   "metadata": {},
   "outputs": [
    {
     "data": {
      "text/html": [
       "<div>\n",
       "<style scoped>\n",
       "    .dataframe tbody tr th:only-of-type {\n",
       "        vertical-align: middle;\n",
       "    }\n",
       "\n",
       "    .dataframe tbody tr th {\n",
       "        vertical-align: top;\n",
       "    }\n",
       "\n",
       "    .dataframe thead th {\n",
       "        text-align: right;\n",
       "    }\n",
       "</style>\n",
       "<table border=\"1\" class=\"dataframe\">\n",
       "  <thead>\n",
       "    <tr style=\"text-align: right;\">\n",
       "      <th></th>\n",
       "      <th>id_publicacion</th>\n",
       "      <th>id_city</th>\n",
       "      <th>house_lat</th>\n",
       "      <th>house_long</th>\n",
       "      <th>rooms</th>\n",
       "      <th>bathrooms</th>\n",
       "      <th>squared_meters</th>\n",
       "      <th>builded_squared_meters</th>\n",
       "      <th>house_details</th>\n",
       "      <th>address</th>\n",
       "      <th>price</th>\n",
       "      <th>index</th>\n",
       "    </tr>\n",
       "  </thead>\n",
       "  <tbody>\n",
       "    <tr>\n",
       "      <th>0</th>\n",
       "      <td>666625211</td>\n",
       "      <td>29</td>\n",
       "      <td>25.775692</td>\n",
       "      <td>-100.24225</td>\n",
       "      <td>3</td>\n",
       "      <td>3.0</td>\n",
       "      <td>124.0</td>\n",
       "      <td>210.0</td>\n",
       "      <td>La casa se encuentra en excelentes condiciones...</td>\n",
       "      <td>Residencial Los Pinos, San Nicolás De Los Garz...</td>\n",
       "      <td>2080000.0</td>\n",
       "      <td>9904.761905</td>\n",
       "    </tr>\n",
       "    <tr>\n",
       "      <th>1</th>\n",
       "      <td>666625212</td>\n",
       "      <td>28</td>\n",
       "      <td>25.778525</td>\n",
       "      <td>-100.31108</td>\n",
       "      <td>2</td>\n",
       "      <td>2.0</td>\n",
       "      <td>118.0</td>\n",
       "      <td>170.0</td>\n",
       "      <td>EXCELENTE OPORTUNIDAD PARA INVERTIR EN LA MEJO...</td>\n",
       "      <td>Residencial Pinos, General Escobedo, Nuevo León</td>\n",
       "      <td>1850000.0</td>\n",
       "      <td>10882.352941</td>\n",
       "    </tr>\n",
       "    <tr>\n",
       "      <th>2</th>\n",
       "      <td>666625214</td>\n",
       "      <td>30</td>\n",
       "      <td>25.801032</td>\n",
       "      <td>-100.58610</td>\n",
       "      <td>3</td>\n",
       "      <td>2.0</td>\n",
       "      <td>133.0</td>\n",
       "      <td>162.0</td>\n",
       "      <td>Hermosa casa con ubicación privilegiada frente...</td>\n",
       "      <td>García, Nuevo León</td>\n",
       "      <td>2200000.0</td>\n",
       "      <td>13580.246914</td>\n",
       "    </tr>\n",
       "    <tr>\n",
       "      <th>3</th>\n",
       "      <td>666625221</td>\n",
       "      <td>28</td>\n",
       "      <td>25.793114</td>\n",
       "      <td>-100.35040</td>\n",
       "      <td>3</td>\n",
       "      <td>2.0</td>\n",
       "      <td>105.0</td>\n",
       "      <td>152.0</td>\n",
       "      <td>Hermosa casa en Fraccionamiento Privado, muy c...</td>\n",
       "      <td>Pedregal De San Agustín, General Escobedo, Nue...</td>\n",
       "      <td>1350000.0</td>\n",
       "      <td>8881.578947</td>\n",
       "    </tr>\n",
       "    <tr>\n",
       "      <th>4</th>\n",
       "      <td>666625227</td>\n",
       "      <td>27</td>\n",
       "      <td>25.736270</td>\n",
       "      <td>-100.15660</td>\n",
       "      <td>3</td>\n",
       "      <td>2.0</td>\n",
       "      <td>175.0</td>\n",
       "      <td>95.0</td>\n",
       "      <td>Casa en venta con excelente ubicación, cerca d...</td>\n",
       "      <td>Villas De San Carlos Iis 3e, Apodaca, Nuevo León</td>\n",
       "      <td>950000.0</td>\n",
       "      <td>10000.000000</td>\n",
       "    </tr>\n",
       "    <tr>\n",
       "      <th>...</th>\n",
       "      <td>...</td>\n",
       "      <td>...</td>\n",
       "      <td>...</td>\n",
       "      <td>...</td>\n",
       "      <td>...</td>\n",
       "      <td>...</td>\n",
       "      <td>...</td>\n",
       "      <td>...</td>\n",
       "      <td>...</td>\n",
       "      <td>...</td>\n",
       "      <td>...</td>\n",
       "      <td>...</td>\n",
       "    </tr>\n",
       "    <tr>\n",
       "      <th>3602</th>\n",
       "      <td>823115203</td>\n",
       "      <td>34</td>\n",
       "      <td>25.656484</td>\n",
       "      <td>-100.36940</td>\n",
       "      <td>4</td>\n",
       "      <td>6.0</td>\n",
       "      <td>400.0</td>\n",
       "      <td>528.0</td>\n",
       "      <td>Casa Los Ríos - ID: DV9935Residencia para estr...</td>\n",
       "      <td>Del Valle, San Pedro Garza García, Nuevo León</td>\n",
       "      <td>34000000.0</td>\n",
       "      <td>64393.939394</td>\n",
       "    </tr>\n",
       "    <tr>\n",
       "      <th>3603</th>\n",
       "      <td>823115252</td>\n",
       "      <td>25</td>\n",
       "      <td>25.577001</td>\n",
       "      <td>-100.23620</td>\n",
       "      <td>3</td>\n",
       "      <td>3.0</td>\n",
       "      <td>231.0</td>\n",
       "      <td>300.0</td>\n",
       "      <td>Casa de 2 pisos Planta baja: cochera para 3 ca...</td>\n",
       "      <td>Vistancia, Monterrey, Nuevo León</td>\n",
       "      <td>5800000.0</td>\n",
       "      <td>19333.333333</td>\n",
       "    </tr>\n",
       "    <tr>\n",
       "      <th>3604</th>\n",
       "      <td>823115262</td>\n",
       "      <td>25</td>\n",
       "      <td>25.748839</td>\n",
       "      <td>-100.38170</td>\n",
       "      <td>3</td>\n",
       "      <td>4.0</td>\n",
       "      <td>300.0</td>\n",
       "      <td>471.0</td>\n",
       "      <td>Ubicada en la parte alta de paseo de los leone...</td>\n",
       "      <td>Las Cumbres, Monterrey, Nuevo León</td>\n",
       "      <td>6900000.0</td>\n",
       "      <td>14649.681529</td>\n",
       "    </tr>\n",
       "    <tr>\n",
       "      <th>3605</th>\n",
       "      <td>823160348</td>\n",
       "      <td>26</td>\n",
       "      <td>25.690444</td>\n",
       "      <td>-100.21020</td>\n",
       "      <td>2</td>\n",
       "      <td>1.0</td>\n",
       "      <td>122.0</td>\n",
       "      <td>98.0</td>\n",
       "      <td>CASA EN VENTA EN GUADALUPE N.L. \\n \\nCasa en v...</td>\n",
       "      <td>Casa En Venta En Guadalupe N.l. Colonia Las Qu...</td>\n",
       "      <td>950000.0</td>\n",
       "      <td>9693.877551</td>\n",
       "    </tr>\n",
       "    <tr>\n",
       "      <th>3606</th>\n",
       "      <td>823197676</td>\n",
       "      <td>25</td>\n",
       "      <td>25.666567</td>\n",
       "      <td>-100.28650</td>\n",
       "      <td>8</td>\n",
       "      <td>7.0</td>\n",
       "      <td>226.0</td>\n",
       "      <td>357.0</td>\n",
       "      <td>ATENCIóN INVERSIONISTAS!! \\n \\nMC Soluciones I...</td>\n",
       "      <td>Oportunidad De Inversión Casa Con 8 Departamen...</td>\n",
       "      <td>2000000.0</td>\n",
       "      <td>5602.240896</td>\n",
       "    </tr>\n",
       "  </tbody>\n",
       "</table>\n",
       "<p>3538 rows × 12 columns</p>\n",
       "</div>"
      ],
      "text/plain": [
       "      id_publicacion  id_city  house_lat  house_long  rooms  bathrooms  \\\n",
       "0          666625211       29  25.775692  -100.24225      3        3.0   \n",
       "1          666625212       28  25.778525  -100.31108      2        2.0   \n",
       "2          666625214       30  25.801032  -100.58610      3        2.0   \n",
       "3          666625221       28  25.793114  -100.35040      3        2.0   \n",
       "4          666625227       27  25.736270  -100.15660      3        2.0   \n",
       "...              ...      ...        ...         ...    ...        ...   \n",
       "3602       823115203       34  25.656484  -100.36940      4        6.0   \n",
       "3603       823115252       25  25.577001  -100.23620      3        3.0   \n",
       "3604       823115262       25  25.748839  -100.38170      3        4.0   \n",
       "3605       823160348       26  25.690444  -100.21020      2        1.0   \n",
       "3606       823197676       25  25.666567  -100.28650      8        7.0   \n",
       "\n",
       "      squared_meters  builded_squared_meters  \\\n",
       "0              124.0                   210.0   \n",
       "1              118.0                   170.0   \n",
       "2              133.0                   162.0   \n",
       "3              105.0                   152.0   \n",
       "4              175.0                    95.0   \n",
       "...              ...                     ...   \n",
       "3602           400.0                   528.0   \n",
       "3603           231.0                   300.0   \n",
       "3604           300.0                   471.0   \n",
       "3605           122.0                    98.0   \n",
       "3606           226.0                   357.0   \n",
       "\n",
       "                                          house_details  \\\n",
       "0     La casa se encuentra en excelentes condiciones...   \n",
       "1     EXCELENTE OPORTUNIDAD PARA INVERTIR EN LA MEJO...   \n",
       "2     Hermosa casa con ubicación privilegiada frente...   \n",
       "3     Hermosa casa en Fraccionamiento Privado, muy c...   \n",
       "4     Casa en venta con excelente ubicación, cerca d...   \n",
       "...                                                 ...   \n",
       "3602  Casa Los Ríos - ID: DV9935Residencia para estr...   \n",
       "3603  Casa de 2 pisos Planta baja: cochera para 3 ca...   \n",
       "3604  Ubicada en la parte alta de paseo de los leone...   \n",
       "3605  CASA EN VENTA EN GUADALUPE N.L. \\n \\nCasa en v...   \n",
       "3606  ATENCIóN INVERSIONISTAS!! \\n \\nMC Soluciones I...   \n",
       "\n",
       "                                                address       price  \\\n",
       "0     Residencial Los Pinos, San Nicolás De Los Garz...   2080000.0   \n",
       "1       Residencial Pinos, General Escobedo, Nuevo León   1850000.0   \n",
       "2                                    García, Nuevo León   2200000.0   \n",
       "3     Pedregal De San Agustín, General Escobedo, Nue...   1350000.0   \n",
       "4      Villas De San Carlos Iis 3e, Apodaca, Nuevo León    950000.0   \n",
       "...                                                 ...         ...   \n",
       "3602      Del Valle, San Pedro Garza García, Nuevo León  34000000.0   \n",
       "3603                   Vistancia, Monterrey, Nuevo León   5800000.0   \n",
       "3604                 Las Cumbres, Monterrey, Nuevo León   6900000.0   \n",
       "3605  Casa En Venta En Guadalupe N.l. Colonia Las Qu...    950000.0   \n",
       "3606  Oportunidad De Inversión Casa Con 8 Departamen...   2000000.0   \n",
       "\n",
       "             index  \n",
       "0      9904.761905  \n",
       "1     10882.352941  \n",
       "2     13580.246914  \n",
       "3      8881.578947  \n",
       "4     10000.000000  \n",
       "...            ...  \n",
       "3602  64393.939394  \n",
       "3603  19333.333333  \n",
       "3604  14649.681529  \n",
       "3605   9693.877551  \n",
       "3606   5602.240896  \n",
       "\n",
       "[3538 rows x 12 columns]"
      ]
     },
     "execution_count": 38,
     "metadata": {},
     "output_type": "execute_result"
    }
   ],
   "source": [
    "new_clean03 = new_clean02[~new_clean02.id_publicacion.isin(list_clean03)]\n",
    "new_clean04 = new_clean03[~new_clean03.id_publicacion.isin(list_clean04)]\n",
    "new_clean04"
   ]
  },
  {
   "cell_type": "code",
   "execution_count": 39,
   "metadata": {},
   "outputs": [
    {
     "data": {
      "text/plain": [
       "id_publicacion            3538\n",
       "id_city                   3538\n",
       "house_lat                 3538\n",
       "house_long                3538\n",
       "rooms                     3538\n",
       "bathrooms                 3538\n",
       "squared_meters            3538\n",
       "builded_squared_meters    3538\n",
       "house_details             3538\n",
       "address                   3538\n",
       "price                     3538\n",
       "index                     3538\n",
       "dtype: int64"
      ]
     },
     "execution_count": 39,
     "metadata": {},
     "output_type": "execute_result"
    }
   ],
   "source": [
    "new_clean04.count()"
   ]
  },
  {
   "cell_type": "code",
   "execution_count": 40,
   "metadata": {},
   "outputs": [
    {
     "data": {
      "text/html": [
       "<div>\n",
       "<style scoped>\n",
       "    .dataframe tbody tr th:only-of-type {\n",
       "        vertical-align: middle;\n",
       "    }\n",
       "\n",
       "    .dataframe tbody tr th {\n",
       "        vertical-align: top;\n",
       "    }\n",
       "\n",
       "    .dataframe thead th {\n",
       "        text-align: right;\n",
       "    }\n",
       "</style>\n",
       "<table border=\"1\" class=\"dataframe\">\n",
       "  <thead>\n",
       "    <tr style=\"text-align: right;\">\n",
       "      <th></th>\n",
       "      <th>id_publicacion</th>\n",
       "      <th>id_city</th>\n",
       "      <th>house_lat</th>\n",
       "      <th>house_long</th>\n",
       "      <th>rooms</th>\n",
       "      <th>bathrooms</th>\n",
       "      <th>squared_meters</th>\n",
       "      <th>builded_squared_meters</th>\n",
       "      <th>price</th>\n",
       "      <th>index</th>\n",
       "    </tr>\n",
       "  </thead>\n",
       "  <tbody>\n",
       "    <tr>\n",
       "      <th>count</th>\n",
       "      <td>3.538000e+03</td>\n",
       "      <td>3538.000000</td>\n",
       "      <td>3538.000000</td>\n",
       "      <td>3538.000000</td>\n",
       "      <td>3538.000000</td>\n",
       "      <td>3538.000000</td>\n",
       "      <td>3538.000000</td>\n",
       "      <td>3538.000000</td>\n",
       "      <td>3.538000e+03</td>\n",
       "      <td>3538.000000</td>\n",
       "    </tr>\n",
       "    <tr>\n",
       "      <th>mean</th>\n",
       "      <td>7.935075e+08</td>\n",
       "      <td>28.467496</td>\n",
       "      <td>25.691209</td>\n",
       "      <td>-100.313230</td>\n",
       "      <td>3.252402</td>\n",
       "      <td>3.111080</td>\n",
       "      <td>305.724158</td>\n",
       "      <td>323.279226</td>\n",
       "      <td>7.593182e+06</td>\n",
       "      <td>19633.542924</td>\n",
       "    </tr>\n",
       "    <tr>\n",
       "      <th>std</th>\n",
       "      <td>3.047705e+07</td>\n",
       "      <td>3.534905</td>\n",
       "      <td>0.246663</td>\n",
       "      <td>0.335533</td>\n",
       "      <td>0.838635</td>\n",
       "      <td>1.443679</td>\n",
       "      <td>390.107879</td>\n",
       "      <td>246.595798</td>\n",
       "      <td>9.252862e+06</td>\n",
       "      <td>11884.965910</td>\n",
       "    </tr>\n",
       "    <tr>\n",
       "      <th>min</th>\n",
       "      <td>6.666252e+08</td>\n",
       "      <td>25.000000</td>\n",
       "      <td>25.353708</td>\n",
       "      <td>-118.521400</td>\n",
       "      <td>1.000000</td>\n",
       "      <td>1.000000</td>\n",
       "      <td>44.000000</td>\n",
       "      <td>50.000000</td>\n",
       "      <td>2.800000e+05</td>\n",
       "      <td>462.670873</td>\n",
       "    </tr>\n",
       "    <tr>\n",
       "      <th>25%</th>\n",
       "      <td>7.817918e+08</td>\n",
       "      <td>25.000000</td>\n",
       "      <td>25.642955</td>\n",
       "      <td>-100.384075</td>\n",
       "      <td>3.000000</td>\n",
       "      <td>2.000000</td>\n",
       "      <td>126.000000</td>\n",
       "      <td>173.000000</td>\n",
       "      <td>2.150000e+06</td>\n",
       "      <td>11780.284013</td>\n",
       "    </tr>\n",
       "    <tr>\n",
       "      <th>50%</th>\n",
       "      <td>7.967068e+08</td>\n",
       "      <td>27.000000</td>\n",
       "      <td>25.686614</td>\n",
       "      <td>-100.286800</td>\n",
       "      <td>3.000000</td>\n",
       "      <td>3.000000</td>\n",
       "      <td>182.500000</td>\n",
       "      <td>261.000000</td>\n",
       "      <td>3.900000e+06</td>\n",
       "      <td>16075.361863</td>\n",
       "    </tr>\n",
       "    <tr>\n",
       "      <th>75%</th>\n",
       "      <td>8.169007e+08</td>\n",
       "      <td>30.000000</td>\n",
       "      <td>25.752370</td>\n",
       "      <td>-100.230500</td>\n",
       "      <td>3.000000</td>\n",
       "      <td>4.000000</td>\n",
       "      <td>345.000000</td>\n",
       "      <td>407.000000</td>\n",
       "      <td>9.137500e+06</td>\n",
       "      <td>23730.039788</td>\n",
       "    </tr>\n",
       "    <tr>\n",
       "      <th>max</th>\n",
       "      <td>8.231977e+08</td>\n",
       "      <td>36.000000</td>\n",
       "      <td>36.407213</td>\n",
       "      <td>-99.978910</td>\n",
       "      <td>13.000000</td>\n",
       "      <td>12.000000</td>\n",
       "      <td>6550.000000</td>\n",
       "      <td>4400.000000</td>\n",
       "      <td>1.200000e+08</td>\n",
       "      <td>95714.285714</td>\n",
       "    </tr>\n",
       "  </tbody>\n",
       "</table>\n",
       "</div>"
      ],
      "text/plain": [
       "       id_publicacion      id_city    house_lat   house_long        rooms  \\\n",
       "count    3.538000e+03  3538.000000  3538.000000  3538.000000  3538.000000   \n",
       "mean     7.935075e+08    28.467496    25.691209  -100.313230     3.252402   \n",
       "std      3.047705e+07     3.534905     0.246663     0.335533     0.838635   \n",
       "min      6.666252e+08    25.000000    25.353708  -118.521400     1.000000   \n",
       "25%      7.817918e+08    25.000000    25.642955  -100.384075     3.000000   \n",
       "50%      7.967068e+08    27.000000    25.686614  -100.286800     3.000000   \n",
       "75%      8.169007e+08    30.000000    25.752370  -100.230500     3.000000   \n",
       "max      8.231977e+08    36.000000    36.407213   -99.978910    13.000000   \n",
       "\n",
       "         bathrooms  squared_meters  builded_squared_meters         price  \\\n",
       "count  3538.000000     3538.000000             3538.000000  3.538000e+03   \n",
       "mean      3.111080      305.724158              323.279226  7.593182e+06   \n",
       "std       1.443679      390.107879              246.595798  9.252862e+06   \n",
       "min       1.000000       44.000000               50.000000  2.800000e+05   \n",
       "25%       2.000000      126.000000              173.000000  2.150000e+06   \n",
       "50%       3.000000      182.500000              261.000000  3.900000e+06   \n",
       "75%       4.000000      345.000000              407.000000  9.137500e+06   \n",
       "max      12.000000     6550.000000             4400.000000  1.200000e+08   \n",
       "\n",
       "              index  \n",
       "count   3538.000000  \n",
       "mean   19633.542924  \n",
       "std    11884.965910  \n",
       "min      462.670873  \n",
       "25%    11780.284013  \n",
       "50%    16075.361863  \n",
       "75%    23730.039788  \n",
       "max    95714.285714  "
      ]
     },
     "execution_count": 40,
     "metadata": {},
     "output_type": "execute_result"
    }
   ],
   "source": [
    "new_clean04.describe()"
   ]
  },
  {
   "cell_type": "markdown",
   "metadata": {},
   "source": [
    "### Plot linear regression"
   ]
  },
  {
   "cell_type": "code",
   "execution_count": 41,
   "metadata": {},
   "outputs": [],
   "source": [
    "x2 = new_clean04[\"builded_squared_meters\"]\n",
    "y2 = new_clean04[\"price\"]"
   ]
  },
  {
   "cell_type": "code",
   "execution_count": 42,
   "metadata": {},
   "outputs": [
    {
     "data": {
      "text/plain": [
       "<matplotlib.collections.PathCollection at 0x24ec3f70610>"
      ]
     },
     "execution_count": 42,
     "metadata": {},
     "output_type": "execute_result"
    },
    {
     "data": {
      "image/png": "[encoded data removed]",
      "text/plain": [
       "<Figure size 432x288 with 1 Axes>"
      ]
     },
     "metadata": {
      "needs_background": "light"
     },
     "output_type": "display_data"
    }
   ],
   "source": [
    "plt.scatter(x2, y2)"
   ]
  },
  {
   "cell_type": "code",
   "execution_count": 43,
   "metadata": {},
   "outputs": [],
   "source": [
    "#Export file\n",
    "new_clean04.to_csv('cleaned_df_mty.csv')"
   ]
  },
  {
   "cell_type": "markdown",
   "metadata": {},
   "source": [
    "# MODEL1 - SINGLE VARIABLE\n",
    "### builded_squared_meters"
   ]
  },
  {
   "cell_type": "code",
   "execution_count": 44,
   "metadata": {},
   "outputs": [
    {
     "name": "stdout",
     "output_type": "stream",
     "text": [
      "Shape:  (3538, 1) (3538, 1)\n"
     ]
    }
   ],
   "source": [
    "# Assign the data to X and y\n",
    "# Note: Sklearn requires a two-dimensional array of values\n",
    "# so we use reshape to create this\n",
    "\n",
    "X = new_clean04[\"builded_squared_meters\"].values.reshape(-1, 1)\n",
    "y = new_clean04[\"price\"].values.reshape(-1, 1)\n",
    "\n",
    "print(\"Shape: \", X.shape, y.shape)"
   ]
  },
  {
   "cell_type": "code",
   "execution_count": 45,
   "metadata": {
    "nbgrader": {
     "grade": false,
     "grade_id": "cell-3d94ebba220cf0cb",
     "locked": false,
     "schema_version": 1,
     "solution": true
    }
   },
   "outputs": [
    {
     "data": {
      "text/plain": [
       "Text(0, 0.5, 'price')"
      ]
     },
     "execution_count": 45,
     "metadata": {},
     "output_type": "execute_result"
    },
    {
     "data": {
      "image/png": "[encoded data removed]",
      "text/plain": [
       "<Figure size 432x288 with 1 Axes>"
      ]
     },
     "metadata": {
      "needs_background": "light"
     },
     "output_type": "display_data"
    }
   ],
   "source": [
    "# Plot the data to see if a linear trend exists\n",
    "\n",
    "### BEGIN SOLUTION\n",
    "plt.scatter(X, y)\n",
    "plt.xlabel(\"builded_squared_meters\")\n",
    "plt.ylabel(\"price\")\n",
    "### END SOLUTION"
   ]
  },
  {
   "cell_type": "code",
   "execution_count": 46,
   "metadata": {
    "nbgrader": {
     "grade": false,
     "grade_id": "cell-9042a62fdddc21ba",
     "locked": false,
     "schema_version": 1,
     "solution": true
    }
   },
   "outputs": [],
   "source": [
    "# Use sklearn's `train_test_split` to split the data into training and testing\n",
    "\n",
    "from sklearn.model_selection import train_test_split\n",
    "\n",
    "### BEGIN SOLUTION\n",
    "\n",
    "X_train, X_test, y_train, y_test = train_test_split(X, y, random_state=42)\n",
    "\n",
    "### END SOLUTION"
   ]
  },
  {
   "cell_type": "code",
   "execution_count": 47,
   "metadata": {
    "nbgrader": {
     "grade": false,
     "grade_id": "cell-c28431477001b4ca",
     "locked": false,
     "schema_version": 1,
     "solution": true
    }
   },
   "outputs": [],
   "source": [
    "# Create the model\n",
    "\n",
    "### BEGIN SOLUTION\n",
    "\n",
    "from sklearn.linear_model import LinearRegression\n",
    "\n",
    "model = LinearRegression()\n",
    "\n",
    "### END SOLUTION"
   ]
  },
  {
   "cell_type": "code",
   "execution_count": 48,
   "metadata": {
    "nbgrader": {
     "grade": false,
     "grade_id": "cell-cf45418a342b12fd",
     "locked": false,
     "schema_version": 1,
     "solution": true
    }
   },
   "outputs": [
    {
     "data": {
      "text/plain": [
       "LinearRegression()"
      ]
     },
     "execution_count": 48,
     "metadata": {},
     "output_type": "execute_result"
    }
   ],
   "source": [
    "# Fit the model to the training data. \n",
    "\n",
    "### BEGIN SOLUTION\n",
    "\n",
    "model.fit(X_train, y_train)\n",
    "\n",
    "### END SOLUTION"
   ]
  },
  {
   "cell_type": "code",
   "execution_count": 49,
   "metadata": {
    "nbgrader": {
     "grade": false,
     "grade_id": "cell-2012c0fff63f915a",
     "locked": false,
     "schema_version": 1,
     "solution": true
    }
   },
   "outputs": [
    {
     "name": "stdout",
     "output_type": "stream",
     "text": [
      "Mean Squared Error (MSE): 40093357957526.86\n",
      "R-squared (R2 ): 0.6045284378483486\n"
     ]
    }
   ],
   "source": [
    "# Calculate the mean_squared_error and the r-squared value\n",
    "# for the testing data\n",
    "\n",
    "from sklearn.metrics import mean_squared_error, r2_score\n",
    "\n",
    "### BEGIN SOLUTION\n",
    "\n",
    "# Use our model to make predictions\n",
    "predicted = model.predict(X_test)\n",
    "\n",
    "# Score the predictions with mse and r2\n",
    "mse = mean_squared_error(y_test, predicted)\n",
    "r2 = r2_score(y_test, predicted)\n",
    "\n",
    "print(f\"Mean Squared Error (MSE): {mse}\")\n",
    "print(f\"R-squared (R2 ): {r2}\")\n",
    "\n",
    "### END SOLUTION"
   ]
  },
  {
   "cell_type": "code",
   "execution_count": 50,
   "metadata": {
    "nbgrader": {
     "grade": false,
     "grade_id": "cell-280db723dfdf1dc7",
     "locked": false,
     "schema_version": 1,
     "solution": true
    }
   },
   "outputs": [
    {
     "data": {
      "text/plain": [
       "0.6045284378483486"
      ]
     },
     "execution_count": 50,
     "metadata": {},
     "output_type": "execute_result"
    }
   ],
   "source": [
    "# Call the `score` method on the model to show the r2 score\n",
    "\n",
    "### BEGIN SOLUTION\n",
    "model.score(X_test, y_test)\n",
    "### END SOLUTION"
   ]
  },
  {
   "cell_type": "code",
   "execution_count": 51,
   "metadata": {},
   "outputs": [],
   "source": [
    "with open('model04.pkl', 'wb') as fid:\n",
    "    pickle.dump(model, fid)"
   ]
  },
  {
   "cell_type": "code",
   "execution_count": 52,
   "metadata": {},
   "outputs": [
    {
     "name": "stdout",
     "output_type": "stream",
     "text": [
      "<class 'sklearn.linear_model._base.LinearRegression'>\n",
      "[[9370143.939913]]\n"
     ]
    }
   ],
   "source": [
    "with open('model04.pkl', 'rb') as fid:\n",
    "    housemodel = pickle.load(fid)\n",
    "    print(type(housemodel))\n",
    "    print(housemodel.predict([[400]]))"
   ]
  },
  {
   "cell_type": "markdown",
   "metadata": {},
   "source": [
    "# MODEL 2 - MULTIVARIABLE\n",
    "### squared_meters, builded_squared_meters"
   ]
  },
  {
   "cell_type": "code",
   "execution_count": 53,
   "metadata": {},
   "outputs": [
    {
     "name": "stdout",
     "output_type": "stream",
     "text": [
      "(3538, 2) (3538, 1)\n"
     ]
    }
   ],
   "source": [
    "# Assign the data to X10 and y10\n",
    "\n",
    "X10 = new_clean04[[\"squared_meters\", \"builded_squared_meters\"]]\n",
    "y10 = new_clean04[\"price\"].values.reshape(-1, 1)\n",
    "print(X10.shape, y10.shape)"
   ]
  },
  {
   "cell_type": "code",
   "execution_count": 54,
   "metadata": {},
   "outputs": [],
   "source": [
    "# Use train_test_split to create training and testing data\n",
    "\n",
    "# YOUR CODE HERE\n",
    "from sklearn.model_selection import train_test_split\n",
    "\n",
    "### BEGIN SOLUTION\n",
    "\n",
    "X_train10, X_test10, y_train10, y_test10 = train_test_split(X10, y10, random_state=42)\n",
    "\n",
    "### END SOLUTION"
   ]
  },
  {
   "cell_type": "code",
   "execution_count": 55,
   "metadata": {},
   "outputs": [],
   "source": [
    "# Create the model using LinearRegression\n",
    "\n",
    "### BEGIN SOLUTION\n",
    "from sklearn.linear_model import LinearRegression\n",
    "model2 = LinearRegression()\n",
    "### END SOLUTION"
   ]
  },
  {
   "cell_type": "code",
   "execution_count": 56,
   "metadata": {},
   "outputs": [
    {
     "name": "stdout",
     "output_type": "stream",
     "text": [
      "Training Score: 0.5430593300177013\n",
      "Testing Score: 0.6202626152659121\n"
     ]
    }
   ],
   "source": [
    "# Fit the model to the training data and calculate the scores for the training and testing data\n",
    "# Fitting our model with all of our features in X\n",
    "model2.fit(X_train10, y_train10)\n",
    "training_score10 = model2.score(X_train10, y_train10)\n",
    "testing_score10 = model2.score(X_test10, y_test10)\n",
    "\n",
    "print(f\"Training Score: {training_score10}\")\n",
    "print(f\"Testing Score: {testing_score10}\")"
   ]
  },
  {
   "cell_type": "code",
   "execution_count": 57,
   "metadata": {},
   "outputs": [
    {
     "data": {
      "text/plain": [
       "Text(0.5, 1.0, 'Residual Plot')"
      ]
     },
     "execution_count": 57,
     "metadata": {},
     "output_type": "execute_result"
    },
    {
     "data": {
      "image/png": "[encoded data removed]",
      "text/plain": [
       "<Figure size 432x288 with 1 Axes>"
      ]
     },
     "metadata": {
      "needs_background": "light"
     },
     "output_type": "display_data"
    }
   ],
   "source": [
    "# Plot the Residuals for the Training and Testing data\n",
    "\n",
    "### BEGIN SOLUTION\n",
    "plt.scatter(model2.predict(X_train10), model2.predict(X_train10) - y_train10, c=\"blue\", label=\"Training Data\")\n",
    "plt.scatter(model2.predict(X_test10), model2.predict(X_test10) - y_test10, c=\"orange\", label=\"Testing Data\")\n",
    "plt.legend()\n",
    "plt.hlines(y=0, xmin=y.min(), xmax=y.max())\n",
    "plt.title(\"Residual Plot\")\n",
    "### END SOLUTION"
   ]
  },
  {
   "cell_type": "code",
   "execution_count": 58,
   "metadata": {},
   "outputs": [
    {
     "name": "stdout",
     "output_type": "stream",
     "text": [
      "Mean Squared Error (MSE): 38498209108043.46\n",
      "R-squared (R2 ): 0.6202626152659121\n"
     ]
    }
   ],
   "source": [
    "# Calculate the mean_squared_error and the r-squared value\n",
    "# for the testing data\n",
    "\n",
    "from sklearn.metrics import mean_squared_error, r2_score\n",
    "\n",
    "### BEGIN SOLUTION\n",
    "\n",
    "# Use our model to make predictions\n",
    "predicted2 = model2.predict(X_test10)\n",
    "\n",
    "# Score the predictions with mse and r2\n",
    "mse_2 = mean_squared_error(y_test10, predicted2)\n",
    "r2_2 = r2_score(y_test10, predicted2)\n",
    "\n",
    "print(f\"Mean Squared Error (MSE): {mse_2}\")\n",
    "print(f\"R-squared (R2 ): {r2_2}\")\n",
    "\n",
    "### END SOLUTION"
   ]
  },
  {
   "cell_type": "code",
   "execution_count": 59,
   "metadata": {},
   "outputs": [
    {
     "data": {
      "text/plain": [
       "0.6202626152659121"
      ]
     },
     "execution_count": 59,
     "metadata": {},
     "output_type": "execute_result"
    }
   ],
   "source": [
    "# Call the `score` method on the model to show the r2 score\n",
    "\n",
    "### BEGIN SOLUTION\n",
    "model2.score(X_test10, y_test10)\n",
    "### END SOLUTION"
   ]
  },
  {
   "cell_type": "code",
   "execution_count": 60,
   "metadata": {},
   "outputs": [],
   "source": [
    "with open('model05.pkl', 'wb') as fid:\n",
    "    pickle.dump(model2, fid)"
   ]
  },
  {
   "cell_type": "code",
   "execution_count": 61,
   "metadata": {},
   "outputs": [
    {
     "name": "stdout",
     "output_type": "stream",
     "text": [
      "<class 'sklearn.linear_model._base.LinearRegression'>\n",
      "[[11345163.85643173]]\n"
     ]
    }
   ],
   "source": [
    "with open('model05.pkl', 'rb') as fid:\n",
    "    housemodel2 = pickle.load(fid)\n",
    "    print(type(housemodel2))\n",
    "    print(housemodel2.predict([[400,500]]))"
   ]
  },
  {
   "cell_type": "markdown",
   "metadata": {},
   "source": [
    "# MODEL3 - MULTIVARIABLE"
   ]
  },
  {
   "cell_type": "code",
   "execution_count": 62,
   "metadata": {},
   "outputs": [
    {
     "name": "stdout",
     "output_type": "stream",
     "text": [
      "(3538, 3) (3538, 1)\n"
     ]
    }
   ],
   "source": [
    "# Assign the data to X10 and y10\n",
    "\n",
    "X20 = new_clean04[[\"builded_squared_meters\", \"squared_meters\", \"id_city\"]]\n",
    "y20 = new_clean04[\"price\"].values.reshape(-1, 1)\n",
    "print(X20.shape, y20.shape)"
   ]
  },
  {
   "cell_type": "code",
   "execution_count": 63,
   "metadata": {},
   "outputs": [],
   "source": [
    "# Use train_test_split to create training and testing data\n",
    "\n",
    "# YOUR CODE HERE\n",
    "from sklearn.model_selection import train_test_split\n",
    "\n",
    "### BEGIN SOLUTION\n",
    "\n",
    "X_train20, X_test20, y_train20, y_test20 = train_test_split(X20, y20, random_state=42)\n",
    "\n",
    "### END SOLUTION"
   ]
  },
  {
   "cell_type": "code",
   "execution_count": 64,
   "metadata": {},
   "outputs": [],
   "source": [
    "# Create the model using LinearRegression\n",
    "\n",
    "### BEGIN SOLUTION\n",
    "from sklearn.linear_model import LinearRegression\n",
    "model3 = LinearRegression()\n",
    "### END SOLUTION"
   ]
  },
  {
   "cell_type": "code",
   "execution_count": 65,
   "metadata": {},
   "outputs": [
    {
     "data": {
      "text/plain": [
       "LinearRegression()"
      ]
     },
     "execution_count": 65,
     "metadata": {},
     "output_type": "execute_result"
    }
   ],
   "source": [
    "# Fit the model to the training data. \n",
    "\n",
    "### BEGIN SOLUTION\n",
    "\n",
    "model3.fit(X_train20, y_train20)\n",
    "\n",
    "### END SOLUTION"
   ]
  },
  {
   "cell_type": "code",
   "execution_count": 66,
   "metadata": {},
   "outputs": [
    {
     "name": "stdout",
     "output_type": "stream",
     "text": [
      "Training Score: 0.6002825606185989\n",
      "Testing Score: 0.6636058867508867\n"
     ]
    }
   ],
   "source": [
    "# Fit the model to the training data and calculate the scores for the training and testing data\n",
    "# Fitting our model with all of our features in X\n",
    "training_score20 = model3.score(X_train20, y_train20)\n",
    "testing_score20 = model3.score(X_test20, y_test20)\n",
    "\n",
    "print(f\"Training Score: {training_score20}\")\n",
    "print(f\"Testing Score: {testing_score20}\")"
   ]
  },
  {
   "cell_type": "code",
   "execution_count": 67,
   "metadata": {},
   "outputs": [
    {
     "data": {
      "text/plain": [
       "Text(0.5, 1.0, 'Residual Plot')"
      ]
     },
     "execution_count": 67,
     "metadata": {},
     "output_type": "execute_result"
    },
    {
     "data": {
      "image/png": "[encoded data removed]",
      "text/plain": [
       "<Figure size 432x288 with 1 Axes>"
      ]
     },
     "metadata": {
      "needs_background": "light"
     },
     "output_type": "display_data"
    }
   ],
   "source": [
    "# Plot the Residuals for the Training and Testing data\n",
    "\n",
    "### BEGIN SOLUTION\n",
    "plt.scatter(model3.predict(X_train20), model3.predict(X_train20) - y_train20, c=\"blue\", label=\"Training Data\")\n",
    "plt.scatter(model3.predict(X_test20), model3.predict(X_test20) - y_test20, c=\"orange\", label=\"Testing Data\")\n",
    "plt.legend()\n",
    "plt.hlines(y=0, xmin=y20.min(), xmax=y20.max())\n",
    "plt.title(\"Residual Plot\")\n",
    "### END SOLUTION"
   ]
  },
  {
   "cell_type": "code",
   "execution_count": 68,
   "metadata": {},
   "outputs": [
    {
     "name": "stdout",
     "output_type": "stream",
     "text": [
      "Mean Squared Error (MSE): 34104018817235.73\n",
      "R-squared (R2 ): 0.6636058867508867\n"
     ]
    }
   ],
   "source": [
    "# Calculate the mean_squared_error and the r-squared value\n",
    "# for the testing data\n",
    "\n",
    "from sklearn.metrics import mean_squared_error, r2_score\n",
    "\n",
    "### BEGIN SOLUTION\n",
    "\n",
    "# Use our model to make predictions\n",
    "predicted3 = model3.predict(X_test20)\n",
    "\n",
    "# Score the predictions with mse and r2\n",
    "mse_3 = mean_squared_error(y_test20, predicted3)\n",
    "r2_3 = r2_score(y_test20, predicted3)\n",
    "\n",
    "print(f\"Mean Squared Error (MSE): {mse_3}\")\n",
    "print(f\"R-squared (R2 ): {r2_3}\")\n",
    "\n",
    "### END SOLUTION"
   ]
  },
  {
   "cell_type": "code",
   "execution_count": 69,
   "metadata": {},
   "outputs": [
    {
     "data": {
      "text/plain": [
       "0.6636058867508867"
      ]
     },
     "execution_count": 69,
     "metadata": {},
     "output_type": "execute_result"
    }
   ],
   "source": [
    "# Call the `score` method on the model to show the r2 score\n",
    "\n",
    "### BEGIN SOLUTION\n",
    "model3.score(X_test20, y_test20)\n",
    "### END SOLUTION"
   ]
  },
  {
   "cell_type": "code",
   "execution_count": 70,
   "metadata": {},
   "outputs": [],
   "source": [
    "with open('model06.pkl', 'wb') as fid:\n",
    "    pickle.dump(model3, fid)"
   ]
  },
  {
   "cell_type": "code",
   "execution_count": 71,
   "metadata": {},
   "outputs": [
    {
     "name": "stdout",
     "output_type": "stream",
     "text": [
      "<class 'sklearn.linear_model._base.LinearRegression'>\n",
      "[[803739.16974233]]\n"
     ]
    }
   ],
   "source": [
    "with open('model06.pkl', 'rb') as fid:\n",
    "    housemodel3 = pickle.load(fid)\n",
    "    print(type(housemodel3))\n",
    "    print(housemodel3.predict([[400,500,14]]))"
   ]
  },
  {
   "cell_type": "code",
   "execution_count": 72,
   "metadata": {},
   "outputs": [],
   "source": [
    "#End of notebook"
   ]
  }
 ],
 "metadata": {
  "celltoolbar": "Create Assignment",
  "kernelspec": {
   "display_name": "Python 3",
   "language": "python",
   "name": "python3"
  },
  "language_info": {
   "codemirror_mode": {
    "name": "ipython",
    "version": 3
   },
   "file_extension": ".py",
   "mimetype": "text/x-python",
   "name": "python",
   "nbconvert_exporter": "python",
   "pygments_lexer": "ipython3",
   "version": "3.8.3"
  },
  "varInspector": {
   "cols": {
    "lenName": 16,
    "lenType": 16,
    "lenVar": 40
   },
   "kernels_config": {
    "python": {
     "delete_cmd_postfix": "",
     "delete_cmd_prefix": "del ",
     "library": "var_list.py",
     "varRefreshCmd": "print(var_dic_list())"
    },
    "r": {
     "delete_cmd_postfix": ") ",
     "delete_cmd_prefix": "rm(",
     "library": "var_list.r",
     "varRefreshCmd": "cat(var_dic_list()) "
    }
   },
   "types_to_exclude": [
    "module",
    "function",
    "builtin_function_or_method",
    "instance",
    "_Feature"
   ],
   "window_display": false
  }
 },
 "nbformat": 4,
 "nbformat_minor": 2
}
